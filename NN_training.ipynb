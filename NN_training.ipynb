{
 "cells": [
  {
   "cell_type": "markdown",
   "id": "3943ef2f-644d-4d68-94af-84b6be527137",
   "metadata": {
    "tags": []
   },
   "source": [
    "# NN Training"
   ]
  },
  {
   "cell_type": "markdown",
   "id": "a5683ab0-de09-42cb-bfe3-59602a3ca954",
   "metadata": {},
   "source": [
    "This notebook was used to train multiple neural networks with different hyper-parameters in order to find the best one."
   ]
  },
  {
   "cell_type": "code",
   "execution_count": 1,
   "id": "8cb97d5e-8123-4de9-a667-22fcf7087353",
   "metadata": {},
   "outputs": [],
   "source": [
    "import numpy as np\n",
    "import pandas as pd\n",
    "import seaborn as sns\n",
    "import matplotlib.pyplot as plt"
   ]
  },
  {
   "cell_type": "code",
   "execution_count": 2,
   "id": "fb73be10-0931-4914-ace7-10ee7261219a",
   "metadata": {},
   "outputs": [],
   "source": [
    "import os\n",
    "os.environ['TF_CPP_MIN_LOG_LEVEL'] = '2'"
   ]
  },
  {
   "cell_type": "code",
   "execution_count": 3,
   "id": "b8fdb787-667a-4a7e-9fcf-843a3d51e4d1",
   "metadata": {},
   "outputs": [],
   "source": [
    "from tensorflow import keras"
   ]
  },
  {
   "cell_type": "markdown",
   "id": "9cfddcf7-6a68-404d-b879-9f52fc170f3c",
   "metadata": {
    "tags": []
   },
   "source": [
    "## Pre-processing"
   ]
  },
  {
   "cell_type": "markdown",
   "id": "bba1857e-2810-4ae0-907a-b18dc3f3497e",
   "metadata": {},
   "source": [
    "Load and pre-process the dataset:"
   ]
  },
  {
   "cell_type": "code",
   "execution_count": 4,
   "id": "827cd79d-100a-4c03-94f3-4a163dd2ad3d",
   "metadata": {
    "tags": []
   },
   "outputs": [],
   "source": [
    "from lib import pre_processing\n",
    "file_path = \"./data/features_3_sec.csv\"\n",
    "df = pd.read_csv(file_path)\n",
    "df = pre_processing(df)"
   ]
  },
  {
   "cell_type": "markdown",
   "id": "1b75825c-d554-4b03-a424-6c923e826191",
   "metadata": {
    "tags": []
   },
   "source": [
    "## Data Normalization"
   ]
  },
  {
   "cell_type": "code",
   "execution_count": 5,
   "id": "41fa9ac4-b54c-488c-9f29-b4e0336d2175",
   "metadata": {},
   "outputs": [],
   "source": [
    "from lib import normalize_df\n",
    "df = normalize_df(df)"
   ]
  },
  {
   "cell_type": "code",
   "execution_count": 6,
   "id": "6865529a-2d45-4304-92a2-5d2e56f8c04d",
   "metadata": {
    "tags": []
   },
   "outputs": [],
   "source": [
    "df_numpy = df.to_numpy()\n",
    "X = df_numpy[:,:-1].astype(np.float32)\n",
    "y = df_numpy[:, -1]"
   ]
  },
  {
   "cell_type": "code",
   "execution_count": 7,
   "id": "b692f92a-221c-480c-83aa-f527cf1e5843",
   "metadata": {
    "tags": []
   },
   "outputs": [
    {
     "data": {
      "text/plain": [
       "((9990, 57), (9990,))"
      ]
     },
     "execution_count": 7,
     "metadata": {},
     "output_type": "execute_result"
    }
   ],
   "source": [
    "X.shape, y.shape"
   ]
  },
  {
   "cell_type": "markdown",
   "id": "e934f5cd-91df-44c3-9bd6-9bc965e041e5",
   "metadata": {},
   "source": [
    "## Label pre-processing"
   ]
  },
  {
   "cell_type": "code",
   "execution_count": 8,
   "id": "594fa8a5-1c42-47c1-9621-d80cda1185a0",
   "metadata": {
    "tags": []
   },
   "outputs": [],
   "source": [
    "from lib import encode_labels\n",
    "y_ohe = encode_labels(y)"
   ]
  },
  {
   "cell_type": "code",
   "execution_count": 9,
   "id": "ce963f6c-4c7f-453e-a11c-d6a6a21cc25b",
   "metadata": {
    "tags": []
   },
   "outputs": [
    {
     "data": {
      "text/plain": [
       "((9990, 57), (9990, 10))"
      ]
     },
     "execution_count": 9,
     "metadata": {},
     "output_type": "execute_result"
    }
   ],
   "source": [
    "X.shape, y_ohe.shape"
   ]
  },
  {
   "cell_type": "markdown",
   "id": "474d105e-e90b-4cef-939f-27da110b927f",
   "metadata": {},
   "source": [
    "# Model selection"
   ]
  },
  {
   "cell_type": "markdown",
   "id": "750b1595-de29-4251-b2f5-6f64f634d6a4",
   "metadata": {},
   "source": [
    "Given the complexity of the models, we will select the best model using a simple train-validation split, without resorting to cross-validation."
   ]
  },
  {
   "cell_type": "code",
   "execution_count": 10,
   "id": "e147a2fa-ffb2-4b30-9868-dfe8ef8e2556",
   "metadata": {},
   "outputs": [],
   "source": [
    "callbacks = [\n",
    "    keras.callbacks.EarlyStopping(\n",
    "        monitor=\"val_loss\",\n",
    "        patience=25,\n",
    "        verbose=0,\n",
    "        restore_best_weights=True\n",
    "    ),\n",
    "    keras.callbacks.ReduceLROnPlateau(\n",
    "        monitor=\"val_loss\",\n",
    "        factor=0.1,\n",
    "        patience=5,\n",
    "        verbose=0,\n",
    "        min_lr=1e-7\n",
    "    ),\n",
    "    keras.callbacks.TerminateOnNaN()\n",
    "]"
   ]
  },
  {
   "cell_type": "markdown",
   "id": "5dfd12b8-2a96-4409-b7fe-491a54d219b1",
   "metadata": {},
   "source": [
    "## Multiclass classifier"
   ]
  },
  {
   "cell_type": "code",
   "execution_count": 11,
   "id": "f43c87cf-0ff5-437c-a038-0903aee604b0",
   "metadata": {
    "tags": []
   },
   "outputs": [],
   "source": [
    "# Connect to the databse\n",
    "from pymongo import MongoClient\n",
    "client = MongoClient('localhost', 27018)\n",
    "db = client['nn_training']\n",
    "collection = db['musical_genre_multiclass']"
   ]
  },
  {
   "cell_type": "code",
   "execution_count": 12,
   "id": "cdd15b0a-c9c5-485f-bb0d-60cb22d2aec0",
   "metadata": {
    "tags": []
   },
   "outputs": [],
   "source": [
    "from sklearn.model_selection import train_test_split\n",
    "\n",
    "def train_multiclass(X, y, test_size, num_hidden_layers, num_neurons, activation, \n",
    "                     learning_rate, epochs, batch_size, callbacks, verbose, use_db=True):\n",
    "    \n",
    "    if use_db is True:\n",
    "        # Document structure\n",
    "        json = {\n",
    "            \"num_hidden_layers\": int(num_hidden_layers),\n",
    "            \"num_neurons\": int(num_neurons),\n",
    "            \"activation_f\": activation,\n",
    "            \"batch_size\": int(batch_size)\n",
    "        }\n",
    "\n",
    "        # Check into the DB if this configuration was already trained\n",
    "        if not collection.count_documents(json) == 0:\n",
    "            return\n",
    "    \n",
    "    # Input layer\n",
    "    layers = [keras.layers.Dense(num_neurons, activation=activation, input_shape=(57,))]\n",
    "    \n",
    "    # Hidden layer\n",
    "    for i in range(num_hidden_layers):\n",
    "        layers.append(keras.layers.Dense(num_neurons, activation=activation))\n",
    "        \n",
    "    # Output layers\n",
    "    layers.append(keras.layers.Dense(10))\n",
    "    layers.append(keras.layers.Softmax())\n",
    "      \n",
    "    # Create the model\n",
    "    model = keras.Sequential(layers)\n",
    "        \n",
    "    # Train\n",
    "    X_train, X_test, y_train, y_test = train_test_split(X, y, test_size=test_size, random_state=0)\n",
    "    model.compile(\n",
    "        optimizer = keras.optimizers.Adam(learning_rate=learning_rate),\n",
    "        loss = keras.losses.CategoricalCrossentropy(),\n",
    "        metrics=['accuracy'])\n",
    "    model.fit(X_train, y_train, epochs=epochs, validation_data = (X_test, y_test), batch_size=batch_size, callbacks=callbacks, verbose=verbose)\n",
    "    \n",
    "    \n",
    "    # Log the result to the DB\n",
    "    if use_db is True:\n",
    "        json[\"validation_accuracy\"] = float(model.get_metrics_result()['accuracy'])\n",
    "        collection.insert_one(json)\n",
    "   \n",
    "    # Return the trained model\n",
    "    print(\"-----------------------------------------------------------------------------------\")\n",
    "    print(f\"Multiclass - Validation accuracy: {model.get_metrics_result()['accuracy']:.5f}\")\n",
    "    return model"
   ]
  },
  {
   "cell_type": "markdown",
   "id": "c4ed2256-3c0e-4c17-9374-373af8c2f55a",
   "metadata": {},
   "source": [
    "Training loop:"
   ]
  },
  {
   "cell_type": "code",
   "execution_count": 13,
   "id": "ddcaf60c-0796-4565-9ae5-1469b6c964df",
   "metadata": {},
   "outputs": [],
   "source": [
    "hidden_layers_values = np.arange(2, 4, 1)\n",
    "num_neurons_values = np.arange(50, 101, 5)\n",
    "batch_size_values = (5, 10, 15, 20, 30, 50)"
   ]
  },
  {
   "cell_type": "code",
   "execution_count": 14,
   "id": "23e4d327-629b-406e-8fd4-3755a07c45f1",
   "metadata": {
    "tags": []
   },
   "outputs": [
    {
     "data": {
      "application/vnd.jupyter.widget-view+json": {
       "model_id": "a377de0c92ab4759977fb3deecad7627",
       "version_major": 2,
       "version_minor": 0
      },
      "text/plain": [
       "  0%|          | 0/132 [00:00<?, ?it/s]"
      ]
     },
     "metadata": {},
     "output_type": "display_data"
    }
   ],
   "source": [
    "from tqdm.contrib.itertools import product\n",
    "\n",
    "for hidden_layers, num_neurons, batch_size in product(hidden_layers_values, num_neurons_values, batch_size_values):\n",
    "    model = train_multiclass(\n",
    "        X=X,\n",
    "        y=y_ohe,\n",
    "        test_size=0.2,\n",
    "        num_hidden_layers=hidden_layers,\n",
    "        num_neurons=num_neurons,\n",
    "        activation='selu',\n",
    "        learning_rate=1e-3, \n",
    "        epochs=150, \n",
    "        batch_size=batch_size,\n",
    "        callbacks=callbacks,\n",
    "        verbose=0\n",
    "    )"
   ]
  },
  {
   "cell_type": "markdown",
   "id": "73f70585-eb51-4da6-9efa-0fe8841d05c2",
   "metadata": {},
   "source": [
    "## Balanced binary classifiers"
   ]
  },
  {
   "cell_type": "code",
   "execution_count": 15,
   "id": "4a788864-dbd8-449a-9360-28d9e0c6025c",
   "metadata": {},
   "outputs": [],
   "source": [
    "genres = ['blues', 'classical', 'country', 'disco', 'hiphop','jazz', 'metal', 'pop', 'reggae', 'rock']"
   ]
  },
  {
   "cell_type": "code",
   "execution_count": 16,
   "id": "f4e38968-c50f-47d3-9163-744c219f5957",
   "metadata": {
    "tags": []
   },
   "outputs": [],
   "source": [
    "# Connect to the databse\n",
    "client = MongoClient('localhost', 27018)\n",
    "db = client['nn_training']\n",
    "collection = db['musical_genre_binary']"
   ]
  },
  {
   "cell_type": "code",
   "execution_count": 17,
   "id": "62d8f0aa-aa50-489e-9a7f-250e4007322f",
   "metadata": {
    "tags": []
   },
   "outputs": [],
   "source": [
    "def train_binary(X, y, test_size, num_hidden_layers, num_neurons, activation,\n",
    "                 learning_rate, epochs, batch_size, callbacks, verbose, use_db=True):\n",
    "    \n",
    "    if use_db is True:\n",
    "        # Document structure\n",
    "        json = {\n",
    "            \"num_hidden_layers\": int(num_hidden_layers),\n",
    "            \"num_neurons\": int(num_neurons),\n",
    "            \"activation_f\": activation,\n",
    "            \"batch_size\": int(batch_size),\n",
    "            \"genre\": genre\n",
    "        }\n",
    "\n",
    "        # Check into the DB if this configuration was already trained\n",
    "        if not collection.count_documents(json) == 0:\n",
    "            return\n",
    "\n",
    "    # Input layer\n",
    "    layers = [keras.layers.Dense(num_neurons, activation=activation, input_shape=(57,))]\n",
    "    \n",
    "    # Hidden layers\n",
    "    for i in range(num_hidden_layers):\n",
    "        layers.append(keras.layers.Dense(num_neurons, activation=activation))\n",
    "        \n",
    "    # Output layers\n",
    "    layers.append(keras.layers.Dense(1, activation='sigmoid'))\n",
    "      \n",
    "    # Create the model\n",
    "    model = keras.Sequential(layers)\n",
    "\n",
    "    # Train\n",
    "    X_train, X_test, y_train, y_test = train_test_split(X, y, test_size=test_size, random_state=0)\n",
    "    model.compile(\n",
    "        optimizer = keras.optimizers.Adam(learning_rate=learning_rate),\n",
    "        loss = keras.losses.BinaryCrossentropy(),\n",
    "        metrics=['accuracy'])\n",
    "    model.fit(X_train, y_train, epochs=epochs, validation_data = (X_test, y_test), batch_size=batch_size, callbacks=callbacks, verbose=verbose)\n",
    "    \n",
    "    # Log the result to the DB\n",
    "    if use_db is True:\n",
    "        json[\"validation_accuracy\"] = float(model.get_metrics_result()['accuracy'])\n",
    "        collection.insert_one(json)\n",
    "       \n",
    "    # Return the trained model\n",
    "    print(\"-----------------------------------------------------------------------------------\")\n",
    "    print(f\"Genre: {genre} - Validation accuracy: {model.get_metrics_result()['accuracy']:.5f}\")\n",
    "    return model"
   ]
  },
  {
   "cell_type": "markdown",
   "id": "aba28a80-3a9e-4a01-8abc-b8b275768cc5",
   "metadata": {},
   "source": [
    "Training loop:"
   ]
  },
  {
   "cell_type": "code",
   "execution_count": 18,
   "id": "027663c8-7c1a-45cb-a0e6-129d69180d46",
   "metadata": {},
   "outputs": [],
   "source": [
    "hidden_layers_values = np.arange(1, 3, 1)\n",
    "num_neurons_values = np.arange(15, 101, 5)\n",
    "batch_size_values = (5, 10, 15, 20, 30, 50)"
   ]
  },
  {
   "cell_type": "code",
   "execution_count": 19,
   "id": "ba78bb1d-c582-4e13-9757-39e7478dfe7f",
   "metadata": {},
   "outputs": [
    {
     "data": {
      "application/vnd.jupyter.widget-view+json": {
       "model_id": "58548bd0efa84a99942357861c885df6",
       "version_major": 2,
       "version_minor": 0
      },
      "text/plain": [
       "  0%|          | 0/10 [00:00<?, ?it/s]"
      ]
     },
     "metadata": {},
     "output_type": "display_data"
    },
    {
     "data": {
      "application/vnd.jupyter.widget-view+json": {
       "model_id": "caf477c2d5c84cbebf97f946b03a91e4",
       "version_major": 2,
       "version_minor": 0
      },
      "text/plain": [
       "  0%|          | 0/216 [00:00<?, ?it/s]"
      ]
     },
     "metadata": {},
     "output_type": "display_data"
    },
    {
     "data": {
      "application/vnd.jupyter.widget-view+json": {
       "model_id": "b16e31acdb164709b6771429987511d8",
       "version_major": 2,
       "version_minor": 0
      },
      "text/plain": [
       "  0%|          | 0/216 [00:00<?, ?it/s]"
      ]
     },
     "metadata": {},
     "output_type": "display_data"
    },
    {
     "data": {
      "application/vnd.jupyter.widget-view+json": {
       "model_id": "83308659302f49eeb18fdfbaf944e9ae",
       "version_major": 2,
       "version_minor": 0
      },
      "text/plain": [
       "  0%|          | 0/216 [00:00<?, ?it/s]"
      ]
     },
     "metadata": {},
     "output_type": "display_data"
    },
    {
     "data": {
      "application/vnd.jupyter.widget-view+json": {
       "model_id": "362d4779cd3d4e65b7beffad74453836",
       "version_major": 2,
       "version_minor": 0
      },
      "text/plain": [
       "  0%|          | 0/216 [00:00<?, ?it/s]"
      ]
     },
     "metadata": {},
     "output_type": "display_data"
    },
    {
     "data": {
      "application/vnd.jupyter.widget-view+json": {
       "model_id": "4338b2a5fea5462189ac5845393a4bf9",
       "version_major": 2,
       "version_minor": 0
      },
      "text/plain": [
       "  0%|          | 0/216 [00:00<?, ?it/s]"
      ]
     },
     "metadata": {},
     "output_type": "display_data"
    },
    {
     "data": {
      "application/vnd.jupyter.widget-view+json": {
       "model_id": "0e492ea719fa4259bb25dc57abade573",
       "version_major": 2,
       "version_minor": 0
      },
      "text/plain": [
       "  0%|          | 0/216 [00:00<?, ?it/s]"
      ]
     },
     "metadata": {},
     "output_type": "display_data"
    },
    {
     "data": {
      "application/vnd.jupyter.widget-view+json": {
       "model_id": "1c0efef98c3c4144a40bc06ff3951164",
       "version_major": 2,
       "version_minor": 0
      },
      "text/plain": [
       "  0%|          | 0/216 [00:00<?, ?it/s]"
      ]
     },
     "metadata": {},
     "output_type": "display_data"
    },
    {
     "data": {
      "application/vnd.jupyter.widget-view+json": {
       "model_id": "53af23c9a7a34e4490d6e7ac2bd14854",
       "version_major": 2,
       "version_minor": 0
      },
      "text/plain": [
       "  0%|          | 0/216 [00:00<?, ?it/s]"
      ]
     },
     "metadata": {},
     "output_type": "display_data"
    },
    {
     "data": {
      "application/vnd.jupyter.widget-view+json": {
       "model_id": "4edeb120764f47bcb395874792366a82",
       "version_major": 2,
       "version_minor": 0
      },
      "text/plain": [
       "  0%|          | 0/216 [00:00<?, ?it/s]"
      ]
     },
     "metadata": {},
     "output_type": "display_data"
    },
    {
     "data": {
      "application/vnd.jupyter.widget-view+json": {
       "model_id": "f785983200a042d29e3091b3917e8a3b",
       "version_major": 2,
       "version_minor": 0
      },
      "text/plain": [
       "  0%|          | 0/216 [00:00<?, ?it/s]"
      ]
     },
     "metadata": {},
     "output_type": "display_data"
    }
   ],
   "source": [
    "from lib import balance_classes\n",
    "from tqdm.notebook import tqdm\n",
    "\n",
    "for genre in tqdm(genres):\n",
    "    Xi, yi = balance_classes(X, y, genre)\n",
    "    for hidden_layers, num_neurons, batch_size in product(hidden_layers_values, num_neurons_values, batch_size_values):\n",
    "        model = train_binary(\n",
    "            X=Xi,\n",
    "            y=yi,\n",
    "            test_size=0.2,\n",
    "            num_hidden_layers=hidden_layers,\n",
    "            num_neurons=num_neurons,\n",
    "            activation='selu',\n",
    "            learning_rate=1e-3, \n",
    "            epochs=150, \n",
    "            batch_size=batch_size,\n",
    "            callbacks=callbacks,\n",
    "            verbose=0\n",
    "        )"
   ]
  },
  {
   "cell_type": "markdown",
   "id": "eda5de7d-6827-4bce-bc29-921d6ace5ef5",
   "metadata": {},
   "source": [
    "# Export the models"
   ]
  },
  {
   "cell_type": "markdown",
   "id": "0499fc36-302e-4080-90e1-d71357767bd1",
   "metadata": {},
   "source": [
    "The best models are retrieved from the database through the id of the document."
   ]
  },
  {
   "cell_type": "markdown",
   "id": "cfa51fbd-7930-430c-b248-a562bfab2afe",
   "metadata": {},
   "source": [
    "We train those models one last time and then we save them to be used in another notebook."
   ]
  },
  {
   "cell_type": "markdown",
   "id": "9423dd78-3c9c-43fb-a40e-475623f40d70",
   "metadata": {},
   "source": [
    "## Multiclass classifier"
   ]
  },
  {
   "cell_type": "code",
   "execution_count": 20,
   "id": "f6fff3ee-bcf7-4150-8ddb-17adb84a3975",
   "metadata": {
    "tags": []
   },
   "outputs": [],
   "source": [
    "# Connect to the databse\n",
    "client = MongoClient('localhost', 27018)\n",
    "db = client['nn_training']\n",
    "collection = db['musical_genre_multiclass']"
   ]
  },
  {
   "cell_type": "code",
   "execution_count": 21,
   "id": "6651616d-4c70-424a-af10-5dd7c17a1f6b",
   "metadata": {},
   "outputs": [],
   "source": [
    "from bson.objectid import ObjectId\n",
    "hyper_params = collection.find_one({\"_id\": ObjectId('63ff5d4f321be25ff4bd4a4a')})"
   ]
  },
  {
   "cell_type": "code",
   "execution_count": 22,
   "id": "a23215ab-14fb-4aec-92a5-41098f4565f2",
   "metadata": {},
   "outputs": [
    {
     "data": {
      "text/plain": [
       "{'_id': ObjectId('63ff5d4f321be25ff4bd4a4a'),\n",
       " 'num_hidden_layers': 2,\n",
       " 'num_neurons': 95,\n",
       " 'activation_f': 'selu',\n",
       " 'batch_size': 5,\n",
       " 'validation_accuracy': 0.9279279112815857}"
      ]
     },
     "execution_count": 22,
     "metadata": {},
     "output_type": "execute_result"
    }
   ],
   "source": [
    "hyper_params"
   ]
  },
  {
   "cell_type": "code",
   "execution_count": 23,
   "id": "432fdad0-b48a-42a6-a14c-32492f91ffde",
   "metadata": {
    "tags": []
   },
   "outputs": [
    {
     "name": "stdout",
     "output_type": "stream",
     "text": [
      "-----------------------------------------------------------------------------------\n",
      "Multiclass - Validation accuracy: 0.91692\n",
      "Model: \"sequential\"\n",
      "_________________________________________________________________\n",
      " Layer (type)                Output Shape              Param #   \n",
      "=================================================================\n",
      " dense (Dense)               (None, 95)                5510      \n",
      "                                                                 \n",
      " dense_1 (Dense)             (None, 95)                9120      \n",
      "                                                                 \n",
      " dense_2 (Dense)             (None, 95)                9120      \n",
      "                                                                 \n",
      " dense_3 (Dense)             (None, 10)                960       \n",
      "                                                                 \n",
      " softmax (Softmax)           (None, 10)                0         \n",
      "                                                                 \n",
      "=================================================================\n",
      "Total params: 24,710\n",
      "Trainable params: 24,710\n",
      "Non-trainable params: 0\n",
      "_________________________________________________________________\n",
      "INFO:tensorflow:Assets written to: models/multiclass/assets\n"
     ]
    }
   ],
   "source": [
    "model = train_multiclass(\n",
    "    X=X,\n",
    "    y=y_ohe,\n",
    "    test_size=0.2,\n",
    "    num_hidden_layers=hyper_params['num_hidden_layers'],\n",
    "    num_neurons=hyper_params['num_neurons'],\n",
    "    activation=hyper_params['activation_f'],\n",
    "    learning_rate=1e-3, \n",
    "    epochs=150, \n",
    "    batch_size=hyper_params['batch_size'],\n",
    "    callbacks=callbacks,\n",
    "    verbose=0,\n",
    "    use_db=False\n",
    ")\n",
    "\n",
    "model.summary()\n",
    "model.save('models/multiclass')"
   ]
  },
  {
   "cell_type": "markdown",
   "id": "2aea390a-ddf0-4c68-9c92-966337ef6804",
   "metadata": {
    "tags": []
   },
   "source": [
    "## Balanced binary classifiers"
   ]
  },
  {
   "cell_type": "code",
   "execution_count": 24,
   "id": "e288f8d7-1944-420f-9db8-c9b86d613b33",
   "metadata": {
    "tags": []
   },
   "outputs": [],
   "source": [
    "# Connect to the databse\n",
    "client = MongoClient('localhost', 27018)\n",
    "db = client['nn_training']\n",
    "collection = db['musical_genre_binary']"
   ]
  },
  {
   "cell_type": "code",
   "execution_count": 25,
   "id": "99ca5a0f-cdd6-4e57-beaf-4878b18de600",
   "metadata": {
    "tags": []
   },
   "outputs": [],
   "source": [
    "best_models = {\n",
    "    'blues':     '63f770df24aa2c8c48d8d6be',\n",
    "    'classical': '63f78119d5a599ee96990375',\n",
    "    'country':   '63f794e6bddddbe6626012fe',\n",
    "    'disco':     '63f5ff930ba565f9849e71f1',\n",
    "    'hiphop':    '63f4da42fda8e4d8c6aaa53e',\n",
    "    'jazz':      '63f50842a7c97cc804df9978',\n",
    "    'metal':     '63f51f4b9298490f118ba650',\n",
    "    'pop':       '63ffbfd3305fa7380dc8c275',\n",
    "    'reggae':    '63f540751a4de2a08e300398',\n",
    "    'rock':      '63f5524b3541477d0005d66e'\n",
    "}"
   ]
  },
  {
   "cell_type": "code",
   "execution_count": 26,
   "id": "fe9e7863-f7f2-4cb1-8f26-b95a3c5c6517",
   "metadata": {},
   "outputs": [
    {
     "name": "stdout",
     "output_type": "stream",
     "text": [
      "-----------------------------------------------------------------------------------\n",
      "Genre: blues - Validation accuracy: 0.93250\n",
      "Model: \"sequential_1\"\n",
      "_________________________________________________________________\n",
      " Layer (type)                Output Shape              Param #   \n",
      "=================================================================\n",
      " dense_4 (Dense)             (None, 75)                4350      \n",
      "                                                                 \n",
      " dense_5 (Dense)             (None, 75)                5700      \n",
      "                                                                 \n",
      " dense_6 (Dense)             (None, 1)                 76        \n",
      "                                                                 \n",
      "=================================================================\n",
      "Total params: 10,126\n",
      "Trainable params: 10,126\n",
      "Non-trainable params: 0\n",
      "_________________________________________________________________\n",
      "INFO:tensorflow:Assets written to: models/blues/assets\n",
      "-----------------------------------------------------------------------------------\n",
      "Genre: classical - Validation accuracy: 0.97250\n",
      "Model: \"sequential_2\"\n",
      "_________________________________________________________________\n",
      " Layer (type)                Output Shape              Param #   \n",
      "=================================================================\n",
      " dense_7 (Dense)             (None, 60)                3480      \n",
      "                                                                 \n",
      " dense_8 (Dense)             (None, 60)                3660      \n",
      "                                                                 \n",
      " dense_9 (Dense)             (None, 1)                 61        \n",
      "                                                                 \n",
      "=================================================================\n",
      "Total params: 7,201\n",
      "Trainable params: 7,201\n",
      "Non-trainable params: 0\n",
      "_________________________________________________________________\n",
      "INFO:tensorflow:Assets written to: models/classical/assets\n",
      "-----------------------------------------------------------------------------------\n",
      "Genre: country - Validation accuracy: 0.92231\n",
      "Model: \"sequential_3\"\n",
      "_________________________________________________________________\n",
      " Layer (type)                Output Shape              Param #   \n",
      "=================================================================\n",
      " dense_10 (Dense)            (None, 80)                4640      \n",
      "                                                                 \n",
      " dense_11 (Dense)            (None, 80)                6480      \n",
      "                                                                 \n",
      " dense_12 (Dense)            (None, 1)                 81        \n",
      "                                                                 \n",
      "=================================================================\n",
      "Total params: 11,201\n",
      "Trainable params: 11,201\n",
      "Non-trainable params: 0\n",
      "_________________________________________________________________\n",
      "INFO:tensorflow:Assets written to: models/country/assets\n",
      "-----------------------------------------------------------------------------------\n",
      "Genre: disco - Validation accuracy: 0.93000\n",
      "Model: \"sequential_4\"\n",
      "_________________________________________________________________\n",
      " Layer (type)                Output Shape              Param #   \n",
      "=================================================================\n",
      " dense_13 (Dense)            (None, 65)                3770      \n",
      "                                                                 \n",
      " dense_14 (Dense)            (None, 65)                4290      \n",
      "                                                                 \n",
      " dense_15 (Dense)            (None, 65)                4290      \n",
      "                                                                 \n",
      " dense_16 (Dense)            (None, 1)                 66        \n",
      "                                                                 \n",
      "=================================================================\n",
      "Total params: 12,416\n",
      "Trainable params: 12,416\n",
      "Non-trainable params: 0\n",
      "_________________________________________________________________\n",
      "INFO:tensorflow:Assets written to: models/disco/assets\n",
      "-----------------------------------------------------------------------------------\n",
      "Genre: hiphop - Validation accuracy: 0.93250\n",
      "Model: \"sequential_5\"\n",
      "_________________________________________________________________\n",
      " Layer (type)                Output Shape              Param #   \n",
      "=================================================================\n",
      " dense_17 (Dense)            (None, 25)                1450      \n",
      "                                                                 \n",
      " dense_18 (Dense)            (None, 25)                650       \n",
      "                                                                 \n",
      " dense_19 (Dense)            (None, 1)                 26        \n",
      "                                                                 \n",
      "=================================================================\n",
      "Total params: 2,126\n",
      "Trainable params: 2,126\n",
      "Non-trainable params: 0\n",
      "_________________________________________________________________\n",
      "INFO:tensorflow:Assets written to: models/hiphop/assets\n",
      "-----------------------------------------------------------------------------------\n",
      "Genre: jazz - Validation accuracy: 0.93750\n",
      "Model: \"sequential_6\"\n",
      "_________________________________________________________________\n",
      " Layer (type)                Output Shape              Param #   \n",
      "=================================================================\n",
      " dense_20 (Dense)            (None, 55)                3190      \n",
      "                                                                 \n",
      " dense_21 (Dense)            (None, 55)                3080      \n",
      "                                                                 \n",
      " dense_22 (Dense)            (None, 55)                3080      \n",
      "                                                                 \n",
      " dense_23 (Dense)            (None, 1)                 56        \n",
      "                                                                 \n",
      "=================================================================\n",
      "Total params: 9,406\n",
      "Trainable params: 9,406\n",
      "Non-trainable params: 0\n",
      "_________________________________________________________________\n",
      "INFO:tensorflow:Assets written to: models/jazz/assets\n",
      "-----------------------------------------------------------------------------------\n",
      "Genre: metal - Validation accuracy: 0.93000\n",
      "Model: \"sequential_7\"\n",
      "_________________________________________________________________\n",
      " Layer (type)                Output Shape              Param #   \n",
      "=================================================================\n",
      " dense_24 (Dense)            (None, 70)                4060      \n",
      "                                                                 \n",
      " dense_25 (Dense)            (None, 70)                4970      \n",
      "                                                                 \n",
      " dense_26 (Dense)            (None, 70)                4970      \n",
      "                                                                 \n",
      " dense_27 (Dense)            (None, 1)                 71        \n",
      "                                                                 \n",
      "=================================================================\n",
      "Total params: 14,071\n",
      "Trainable params: 14,071\n",
      "Non-trainable params: 0\n",
      "_________________________________________________________________\n",
      "INFO:tensorflow:Assets written to: models/metal/assets\n",
      "-----------------------------------------------------------------------------------\n",
      "Genre: pop - Validation accuracy: 0.93500\n",
      "Model: \"sequential_8\"\n",
      "_________________________________________________________________\n",
      " Layer (type)                Output Shape              Param #   \n",
      "=================================================================\n",
      " dense_28 (Dense)            (None, 60)                3480      \n",
      "                                                                 \n",
      " dense_29 (Dense)            (None, 60)                3660      \n",
      "                                                                 \n",
      " dense_30 (Dense)            (None, 60)                3660      \n",
      "                                                                 \n",
      " dense_31 (Dense)            (None, 1)                 61        \n",
      "                                                                 \n",
      "=================================================================\n",
      "Total params: 10,861\n",
      "Trainable params: 10,861\n",
      "Non-trainable params: 0\n",
      "_________________________________________________________________\n",
      "INFO:tensorflow:Assets written to: models/pop/assets\n",
      "-----------------------------------------------------------------------------------\n",
      "Genre: reggae - Validation accuracy: 0.89500\n",
      "Model: \"sequential_9\"\n",
      "_________________________________________________________________\n",
      " Layer (type)                Output Shape              Param #   \n",
      "=================================================================\n",
      " dense_32 (Dense)            (None, 90)                5220      \n",
      "                                                                 \n",
      " dense_33 (Dense)            (None, 90)                8190      \n",
      "                                                                 \n",
      " dense_34 (Dense)            (None, 1)                 91        \n",
      "                                                                 \n",
      "=================================================================\n",
      "Total params: 13,501\n",
      "Trainable params: 13,501\n",
      "Non-trainable params: 0\n",
      "_________________________________________________________________\n",
      "INFO:tensorflow:Assets written to: models/reggae/assets\n",
      "-----------------------------------------------------------------------------------\n",
      "Genre: rock - Validation accuracy: 0.89000\n",
      "Model: \"sequential_10\"\n",
      "_________________________________________________________________\n",
      " Layer (type)                Output Shape              Param #   \n",
      "=================================================================\n",
      " dense_35 (Dense)            (None, 75)                4350      \n",
      "                                                                 \n",
      " dense_36 (Dense)            (None, 75)                5700      \n",
      "                                                                 \n",
      " dense_37 (Dense)            (None, 1)                 76        \n",
      "                                                                 \n",
      "=================================================================\n",
      "Total params: 10,126\n",
      "Trainable params: 10,126\n",
      "Non-trainable params: 0\n",
      "_________________________________________________________________\n",
      "INFO:tensorflow:Assets written to: models/rock/assets\n"
     ]
    }
   ],
   "source": [
    "for genre in genres:\n",
    "    hyper_params = collection.find_one({\"_id\": ObjectId(best_models[genre])})\n",
    "    print(hyper_params)\n",
    "    Xi, yi = balance_classes(X, y, genre)\n",
    "    model = train_binary(\n",
    "        X=Xi,\n",
    "        y=yi,\n",
    "        test_size=0.2,\n",
    "        num_hidden_layers=hyper_params['num_hidden_layers'],\n",
    "        num_neurons=hyper_params['num_neurons'],\n",
    "        activation=hyper_params['activation_f'],\n",
    "        learning_rate=1e-3, \n",
    "        epochs=150, \n",
    "        batch_size=hyper_params['batch_size'],\n",
    "        callbacks=callbacks,\n",
    "        verbose=0,\n",
    "        use_db=False\n",
    "    )\n",
    "    model.summary()\n",
    "    model.save('models/' + genre)"
   ]
  }
 ],
 "metadata": {
  "kernelspec": {
   "display_name": "Python 3 (ipykernel)",
   "language": "python",
   "name": "python3"
  },
  "language_info": {
   "codemirror_mode": {
    "name": "ipython",
    "version": 3
   },
   "file_extension": ".py",
   "mimetype": "text/x-python",
   "name": "python",
   "nbconvert_exporter": "python",
   "pygments_lexer": "ipython3",
   "version": "3.8.10"
  }
 },
 "nbformat": 4,
 "nbformat_minor": 5
}
