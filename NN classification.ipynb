{
 "cells": [
  {
   "cell_type": "markdown",
   "id": "690a8bec-f9db-41e0-bfbe-4b43496ebd82",
   "metadata": {
    "tags": []
   },
   "source": [
    "# NN Classification"
   ]
  },
  {
   "cell_type": "code",
   "execution_count": 1,
   "id": "c5b47f22-36b3-4d5e-9c3f-eb5527577e52",
   "metadata": {
    "tags": []
   },
   "outputs": [],
   "source": [
    "import numpy as np\n",
    "import pandas as pd\n",
    "import seaborn as sns\n",
    "import matplotlib.pyplot as plt"
   ]
  },
  {
   "cell_type": "markdown",
   "id": "410c1b5f-77da-4d53-b949-89b60a1db5fe",
   "metadata": {
    "tags": []
   },
   "source": [
    "## Pre-processing"
   ]
  },
  {
   "cell_type": "code",
   "execution_count": 2,
   "id": "d22b66ea-4a38-4a13-bdbb-22a49d4d6ec7",
   "metadata": {
    "tags": []
   },
   "outputs": [],
   "source": [
    "file_path = \"./data/features_30_sec.csv\""
   ]
  },
  {
   "cell_type": "markdown",
   "id": "b49c2500-e698-40ae-a0c0-a2b91f628b05",
   "metadata": {},
   "source": [
    "Load the dataset:"
   ]
  },
  {
   "cell_type": "code",
   "execution_count": 3,
   "id": "7b96bfca-e39b-4db4-8055-75716821700a",
   "metadata": {
    "tags": []
   },
   "outputs": [],
   "source": [
    "df = pd.read_csv(file_path)"
   ]
  },
  {
   "cell_type": "markdown",
   "id": "b4936c8b-2e85-41c8-ba05-e78204242524",
   "metadata": {},
   "source": [
    "Set the correct datatypes:"
   ]
  },
  {
   "cell_type": "code",
   "execution_count": 4,
   "id": "c7bd37e0-fe07-44be-bfaa-fb51c93dbf38",
   "metadata": {
    "tags": []
   },
   "outputs": [],
   "source": [
    "dtypes = {col:np.float32 for col in df.columns}\n",
    "dtypes[\"filename\"] = \"string\"\n",
    "dtypes[\"length\"] = np.int32\n",
    "dtypes[\"label\"] = \"category\"\n",
    "df = df.astype(dtypes)"
   ]
  },
  {
   "cell_type": "markdown",
   "id": "7691de5c-93c2-4fac-bc1b-83b125ac340e",
   "metadata": {
    "tags": []
   },
   "source": [
    "## Data Normalization"
   ]
  },
  {
   "cell_type": "markdown",
   "id": "6bb9bb08-3189-4cfd-827d-cd3f206be190",
   "metadata": {},
   "source": [
    "Mean and the standard deviation should be computed w.r.t. the training set only:"
   ]
  },
  {
   "cell_type": "code",
   "execution_count": 5,
   "id": "bfff88e6-6cd0-4fc0-8283-c7e4cbe151b1",
   "metadata": {
    "tags": []
   },
   "outputs": [],
   "source": [
    "df_labels = df['label']\n",
    "df= df.drop(['filename', 'length', 'label'], axis=1)"
   ]
  },
  {
   "cell_type": "code",
   "execution_count": 6,
   "id": "72a04326-8722-418d-9574-2dd9a4a91d60",
   "metadata": {
    "tags": []
   },
   "outputs": [],
   "source": [
    "mean = df.mean()\n",
    "std = df.std()"
   ]
  },
  {
   "cell_type": "markdown",
   "id": "71adde42-881b-43bf-93b9-3d0928ff7cc0",
   "metadata": {},
   "source": [
    "Check the results:"
   ]
  },
  {
   "cell_type": "code",
   "execution_count": 7,
   "id": "f15d5e79-5875-4b77-9eca-824a41a43be3",
   "metadata": {
    "tags": []
   },
   "outputs": [
    {
     "data": {
      "text/html": [
       "<div>\n",
       "<style scoped>\n",
       "    .dataframe tbody tr th:only-of-type {\n",
       "        vertical-align: middle;\n",
       "    }\n",
       "\n",
       "    .dataframe tbody tr th {\n",
       "        vertical-align: top;\n",
       "    }\n",
       "\n",
       "    .dataframe thead th {\n",
       "        text-align: right;\n",
       "    }\n",
       "</style>\n",
       "<table border=\"1\" class=\"dataframe\">\n",
       "  <thead>\n",
       "    <tr style=\"text-align: right;\">\n",
       "      <th></th>\n",
       "      <th>chroma_stft_mean</th>\n",
       "      <th>chroma_stft_var</th>\n",
       "      <th>rms_mean</th>\n",
       "      <th>rms_var</th>\n",
       "      <th>spectral_centroid_mean</th>\n",
       "      <th>spectral_centroid_var</th>\n",
       "      <th>spectral_bandwidth_mean</th>\n",
       "      <th>spectral_bandwidth_var</th>\n",
       "      <th>rolloff_mean</th>\n",
       "      <th>rolloff_var</th>\n",
       "      <th>...</th>\n",
       "      <th>mfcc16_mean</th>\n",
       "      <th>mfcc16_var</th>\n",
       "      <th>mfcc17_mean</th>\n",
       "      <th>mfcc17_var</th>\n",
       "      <th>mfcc18_mean</th>\n",
       "      <th>mfcc18_var</th>\n",
       "      <th>mfcc19_mean</th>\n",
       "      <th>mfcc19_var</th>\n",
       "      <th>mfcc20_mean</th>\n",
       "      <th>mfcc20_var</th>\n",
       "    </tr>\n",
       "  </thead>\n",
       "  <tbody>\n",
       "    <tr>\n",
       "      <th>count</th>\n",
       "      <td>1.000000e+03</td>\n",
       "      <td>1.000000e+03</td>\n",
       "      <td>1.000000e+03</td>\n",
       "      <td>1.000000e+03</td>\n",
       "      <td>1.000000e+03</td>\n",
       "      <td>1.000000e+03</td>\n",
       "      <td>1.000000e+03</td>\n",
       "      <td>1000.000000</td>\n",
       "      <td>1000.000000</td>\n",
       "      <td>1.000000e+03</td>\n",
       "      <td>...</td>\n",
       "      <td>1.000000e+03</td>\n",
       "      <td>1.000000e+03</td>\n",
       "      <td>1.000000e+03</td>\n",
       "      <td>1.000000e+03</td>\n",
       "      <td>1.000000e+03</td>\n",
       "      <td>1.000000e+03</td>\n",
       "      <td>1.000000e+03</td>\n",
       "      <td>1.000000e+03</td>\n",
       "      <td>1.000000e+03</td>\n",
       "      <td>1.000000e+03</td>\n",
       "    </tr>\n",
       "    <tr>\n",
       "      <th>mean</th>\n",
       "      <td>1.144409e-07</td>\n",
       "      <td>-1.144409e-07</td>\n",
       "      <td>-2.937317e-07</td>\n",
       "      <td>-7.629395e-09</td>\n",
       "      <td>-1.602173e-07</td>\n",
       "      <td>-3.814697e-08</td>\n",
       "      <td>1.068115e-07</td>\n",
       "      <td>0.000000</td>\n",
       "      <td>0.000000</td>\n",
       "      <td>-4.577637e-08</td>\n",
       "      <td>...</td>\n",
       "      <td>1.144409e-08</td>\n",
       "      <td>-7.629394e-08</td>\n",
       "      <td>-7.629395e-09</td>\n",
       "      <td>-1.525879e-08</td>\n",
       "      <td>1.144409e-08</td>\n",
       "      <td>2.288818e-08</td>\n",
       "      <td>-7.247925e-08</td>\n",
       "      <td>1.106262e-07</td>\n",
       "      <td>-1.525879e-08</td>\n",
       "      <td>1.106262e-07</td>\n",
       "    </tr>\n",
       "    <tr>\n",
       "      <th>std</th>\n",
       "      <td>1.000000e+00</td>\n",
       "      <td>1.000000e+00</td>\n",
       "      <td>1.000000e+00</td>\n",
       "      <td>9.999999e-01</td>\n",
       "      <td>9.999999e-01</td>\n",
       "      <td>1.000000e+00</td>\n",
       "      <td>1.000000e+00</td>\n",
       "      <td>1.000000</td>\n",
       "      <td>1.000000</td>\n",
       "      <td>9.999999e-01</td>\n",
       "      <td>...</td>\n",
       "      <td>1.000000e+00</td>\n",
       "      <td>9.999999e-01</td>\n",
       "      <td>1.000000e+00</td>\n",
       "      <td>1.000000e+00</td>\n",
       "      <td>9.999999e-01</td>\n",
       "      <td>1.000000e+00</td>\n",
       "      <td>1.000000e+00</td>\n",
       "      <td>9.999999e-01</td>\n",
       "      <td>1.000000e+00</td>\n",
       "      <td>1.000000e+00</td>\n",
       "    </tr>\n",
       "    <tr>\n",
       "      <th>min</th>\n",
       "      <td>-2.530356e+00</td>\n",
       "      <td>-5.401806e+00</td>\n",
       "      <td>-1.913023e+00</td>\n",
       "      <td>-8.383836e-01</td>\n",
       "      <td>-2.279093e+00</td>\n",
       "      <td>-1.151861e+00</td>\n",
       "      <td>-2.554499e+00</td>\n",
       "      <td>-1.309327</td>\n",
       "      <td>-2.427247</td>\n",
       "      <td>-1.283895e+00</td>\n",
       "      <td>...</td>\n",
       "      <td>-3.678135e+00</td>\n",
       "      <td>-1.526307e+00</td>\n",
       "      <td>-2.916392e+00</td>\n",
       "      <td>-1.454699e+00</td>\n",
       "      <td>-3.223326e+00</td>\n",
       "      <td>-1.403757e+00</td>\n",
       "      <td>-4.306013e+00</td>\n",
       "      <td>-1.418825e+00</td>\n",
       "      <td>-4.908588e+00</td>\n",
       "      <td>-1.374565e+00</td>\n",
       "    </tr>\n",
       "    <tr>\n",
       "      <th>25%</th>\n",
       "      <td>-7.235815e-01</td>\n",
       "      <td>-5.225500e-01</td>\n",
       "      <td>-6.740337e-01</td>\n",
       "      <td>-5.804838e-01</td>\n",
       "      <td>-8.018369e-01</td>\n",
       "      <td>-7.117521e-01</td>\n",
       "      <td>-6.370699e-01</td>\n",
       "      <td>-0.722639</td>\n",
       "      <td>-0.756595</td>\n",
       "      <td>-7.519650e-01</td>\n",
       "      <td>...</td>\n",
       "      <td>-6.576672e-01</td>\n",
       "      <td>-6.025264e-01</td>\n",
       "      <td>-7.123985e-01</td>\n",
       "      <td>-6.512333e-01</td>\n",
       "      <td>-6.499466e-01</td>\n",
       "      <td>-6.345084e-01</td>\n",
       "      <td>-6.214566e-01</td>\n",
       "      <td>-6.596364e-01</td>\n",
       "      <td>-5.925577e-01</td>\n",
       "      <td>-6.136224e-01</td>\n",
       "    </tr>\n",
       "    <tr>\n",
       "      <th>50%</th>\n",
       "      <td>5.466284e-02</td>\n",
       "      <td>3.552591e-02</td>\n",
       "      <td>-1.292049e-01</td>\n",
       "      <td>-3.397881e-01</td>\n",
       "      <td>1.045037e-02</td>\n",
       "      <td>-3.272776e-01</td>\n",
       "      <td>-4.018151e-02</td>\n",
       "      <td>-0.260240</td>\n",
       "      <td>0.055230</td>\n",
       "      <td>-2.583919e-01</td>\n",
       "      <td>...</td>\n",
       "      <td>1.412219e-02</td>\n",
       "      <td>-2.488277e-01</td>\n",
       "      <td>-2.188645e-02</td>\n",
       "      <td>-2.364440e-01</td>\n",
       "      <td>4.185635e-02</td>\n",
       "      <td>-2.589298e-01</td>\n",
       "      <td>-1.733281e-02</td>\n",
       "      <td>-2.369591e-01</td>\n",
       "      <td>-1.848864e-02</td>\n",
       "      <td>-2.418822e-01</td>\n",
       "    </tr>\n",
       "    <tr>\n",
       "      <th>75%</th>\n",
       "      <td>7.008155e-01</td>\n",
       "      <td>6.354881e-01</td>\n",
       "      <td>6.813392e-01</td>\n",
       "      <td>1.446294e-01</td>\n",
       "      <td>6.837160e-01</td>\n",
       "      <td>3.553417e-01</td>\n",
       "      <td>6.382640e-01</td>\n",
       "      <td>0.469567</td>\n",
       "      <td>0.611040</td>\n",
       "      <td>4.988592e-01</td>\n",
       "      <td>...</td>\n",
       "      <td>7.013660e-01</td>\n",
       "      <td>3.244571e-01</td>\n",
       "      <td>6.873626e-01</td>\n",
       "      <td>3.705950e-01</td>\n",
       "      <td>6.749662e-01</td>\n",
       "      <td>3.393190e-01</td>\n",
       "      <td>6.601070e-01</td>\n",
       "      <td>3.334133e-01</td>\n",
       "      <td>6.275629e-01</td>\n",
       "      <td>3.371608e-01</td>\n",
       "    </tr>\n",
       "    <tr>\n",
       "      <th>max</th>\n",
       "      <td>3.488200e+00</td>\n",
       "      <td>2.814582e+00</td>\n",
       "      <td>4.065637e+00</td>\n",
       "      <td>6.776195e+00</td>\n",
       "      <td>3.119534e+00</td>\n",
       "      <td>6.403479e+00</td>\n",
       "      <td>2.407497e+00</td>\n",
       "      <td>5.781990</td>\n",
       "      <td>2.607408</td>\n",
       "      <td>4.783263e+00</td>\n",
       "      <td>...</td>\n",
       "      <td>2.688174e+00</td>\n",
       "      <td>9.833695e+00</td>\n",
       "      <td>3.395605e+00</td>\n",
       "      <td>1.025788e+01</td>\n",
       "      <td>3.846030e+00</td>\n",
       "      <td>7.824924e+00</td>\n",
       "      <td>4.532450e+00</td>\n",
       "      <td>8.794439e+00</td>\n",
       "      <td>4.291099e+00</td>\n",
       "      <td>9.638590e+00</td>\n",
       "    </tr>\n",
       "  </tbody>\n",
       "</table>\n",
       "<p>8 rows × 57 columns</p>\n",
       "</div>"
      ],
      "text/plain": [
       "       chroma_stft_mean  chroma_stft_var      rms_mean       rms_var  \\\n",
       "count      1.000000e+03     1.000000e+03  1.000000e+03  1.000000e+03   \n",
       "mean       1.144409e-07    -1.144409e-07 -2.937317e-07 -7.629395e-09   \n",
       "std        1.000000e+00     1.000000e+00  1.000000e+00  9.999999e-01   \n",
       "min       -2.530356e+00    -5.401806e+00 -1.913023e+00 -8.383836e-01   \n",
       "25%       -7.235815e-01    -5.225500e-01 -6.740337e-01 -5.804838e-01   \n",
       "50%        5.466284e-02     3.552591e-02 -1.292049e-01 -3.397881e-01   \n",
       "75%        7.008155e-01     6.354881e-01  6.813392e-01  1.446294e-01   \n",
       "max        3.488200e+00     2.814582e+00  4.065637e+00  6.776195e+00   \n",
       "\n",
       "       spectral_centroid_mean  spectral_centroid_var  spectral_bandwidth_mean  \\\n",
       "count            1.000000e+03           1.000000e+03             1.000000e+03   \n",
       "mean            -1.602173e-07          -3.814697e-08             1.068115e-07   \n",
       "std              9.999999e-01           1.000000e+00             1.000000e+00   \n",
       "min             -2.279093e+00          -1.151861e+00            -2.554499e+00   \n",
       "25%             -8.018369e-01          -7.117521e-01            -6.370699e-01   \n",
       "50%              1.045037e-02          -3.272776e-01            -4.018151e-02   \n",
       "75%              6.837160e-01           3.553417e-01             6.382640e-01   \n",
       "max              3.119534e+00           6.403479e+00             2.407497e+00   \n",
       "\n",
       "       spectral_bandwidth_var  rolloff_mean   rolloff_var  ...   mfcc16_mean  \\\n",
       "count             1000.000000   1000.000000  1.000000e+03  ...  1.000000e+03   \n",
       "mean                 0.000000      0.000000 -4.577637e-08  ...  1.144409e-08   \n",
       "std                  1.000000      1.000000  9.999999e-01  ...  1.000000e+00   \n",
       "min                 -1.309327     -2.427247 -1.283895e+00  ... -3.678135e+00   \n",
       "25%                 -0.722639     -0.756595 -7.519650e-01  ... -6.576672e-01   \n",
       "50%                 -0.260240      0.055230 -2.583919e-01  ...  1.412219e-02   \n",
       "75%                  0.469567      0.611040  4.988592e-01  ...  7.013660e-01   \n",
       "max                  5.781990      2.607408  4.783263e+00  ...  2.688174e+00   \n",
       "\n",
       "         mfcc16_var   mfcc17_mean    mfcc17_var   mfcc18_mean    mfcc18_var  \\\n",
       "count  1.000000e+03  1.000000e+03  1.000000e+03  1.000000e+03  1.000000e+03   \n",
       "mean  -7.629394e-08 -7.629395e-09 -1.525879e-08  1.144409e-08  2.288818e-08   \n",
       "std    9.999999e-01  1.000000e+00  1.000000e+00  9.999999e-01  1.000000e+00   \n",
       "min   -1.526307e+00 -2.916392e+00 -1.454699e+00 -3.223326e+00 -1.403757e+00   \n",
       "25%   -6.025264e-01 -7.123985e-01 -6.512333e-01 -6.499466e-01 -6.345084e-01   \n",
       "50%   -2.488277e-01 -2.188645e-02 -2.364440e-01  4.185635e-02 -2.589298e-01   \n",
       "75%    3.244571e-01  6.873626e-01  3.705950e-01  6.749662e-01  3.393190e-01   \n",
       "max    9.833695e+00  3.395605e+00  1.025788e+01  3.846030e+00  7.824924e+00   \n",
       "\n",
       "        mfcc19_mean    mfcc19_var   mfcc20_mean    mfcc20_var  \n",
       "count  1.000000e+03  1.000000e+03  1.000000e+03  1.000000e+03  \n",
       "mean  -7.247925e-08  1.106262e-07 -1.525879e-08  1.106262e-07  \n",
       "std    1.000000e+00  9.999999e-01  1.000000e+00  1.000000e+00  \n",
       "min   -4.306013e+00 -1.418825e+00 -4.908588e+00 -1.374565e+00  \n",
       "25%   -6.214566e-01 -6.596364e-01 -5.925577e-01 -6.136224e-01  \n",
       "50%   -1.733281e-02 -2.369591e-01 -1.848864e-02 -2.418822e-01  \n",
       "75%    6.601070e-01  3.334133e-01  6.275629e-01  3.371608e-01  \n",
       "max    4.532450e+00  8.794439e+00  4.291099e+00  9.638590e+00  \n",
       "\n",
       "[8 rows x 57 columns]"
      ]
     },
     "execution_count": 7,
     "metadata": {},
     "output_type": "execute_result"
    }
   ],
   "source": [
    "df_norm = (df - mean) / std\n",
    "df_norm.describe()"
   ]
  },
  {
   "cell_type": "markdown",
   "id": "8117954a-c393-4f7e-b074-3b32822b95ba",
   "metadata": {},
   "source": [
    "## Data shuffling"
   ]
  },
  {
   "cell_type": "code",
   "execution_count": 8,
   "id": "37085cd9-9f53-4bd1-916e-4d9e6010417d",
   "metadata": {
    "tags": []
   },
   "outputs": [],
   "source": [
    "np.random.seed(0)\n",
    "df_norm['label'] = df_labels\n",
    "df_norm_numpy = df_norm.to_numpy()\n",
    "np.random.shuffle(df_norm_numpy)"
   ]
  },
  {
   "cell_type": "code",
   "execution_count": 9,
   "id": "504e769d-dfc7-42ca-8dae-1557e3a52784",
   "metadata": {
    "tags": []
   },
   "outputs": [
    {
     "data": {
      "text/plain": [
       "(1000, 57)"
      ]
     },
     "execution_count": 9,
     "metadata": {},
     "output_type": "execute_result"
    }
   ],
   "source": [
    "X = df_norm_numpy[:, :-1]\n",
    "X = X.astype(np.float32)\n",
    "X.shape"
   ]
  },
  {
   "cell_type": "code",
   "execution_count": 10,
   "id": "0a3dbb3d-4382-402c-a08a-ae0de2f6d85b",
   "metadata": {
    "tags": []
   },
   "outputs": [
    {
     "data": {
      "text/plain": [
       "(1000,)"
      ]
     },
     "execution_count": 10,
     "metadata": {},
     "output_type": "execute_result"
    }
   ],
   "source": [
    "labels = df_norm_numpy[:,-1]\n",
    "labels.shape"
   ]
  },
  {
   "cell_type": "markdown",
   "id": "599c0506-3eff-44e0-91ad-55f5b23824b6",
   "metadata": {
    "tags": []
   },
   "source": [
    "## Label pre-processing"
   ]
  },
  {
   "cell_type": "markdown",
   "id": "5fcf1a35-e520-48f9-b0ed-5ce592f07b6d",
   "metadata": {},
   "source": [
    "We create a one-hot representation of the labels, i.e. a matrix where each row corresponds to a class. \n",
    "\n",
    "The entries of the matrix are 1 if the sample corresponds to that digit, 0 otherwise."
   ]
  },
  {
   "cell_type": "code",
   "execution_count": 11,
   "id": "bff9e47a-7001-4311-bd04-275a2e3d52b5",
   "metadata": {
    "tags": []
   },
   "outputs": [],
   "source": [
    "unique_labels = np.array(['blues', 'classical', 'country', 'disco', 'hiphop',\n",
    "                          'jazz', 'metal', 'pop', 'reggae', 'rock'])"
   ]
  },
  {
   "cell_type": "code",
   "execution_count": 12,
   "id": "dd1f43e9-e09c-41e3-861f-be3f09306973",
   "metadata": {
    "tags": []
   },
   "outputs": [],
   "source": [
    "y = np.zeros((1000, 10))\n",
    "for i in range(1000):\n",
    "    y[i, unique_labels == labels[i]] = 1"
   ]
  },
  {
   "cell_type": "markdown",
   "id": "e4cfa844-d8d2-4dfd-8fc9-6903e32cb5ba",
   "metadata": {},
   "source": [
    "Check that the matrix was build correctly:"
   ]
  },
  {
   "cell_type": "code",
   "execution_count": 13,
   "id": "3bd69217-99ba-48a8-ade8-f6f05919fee9",
   "metadata": {
    "tags": []
   },
   "outputs": [
    {
     "data": {
      "text/plain": [
       "(1.0, 1.0)"
      ]
     },
     "execution_count": 13,
     "metadata": {},
     "output_type": "execute_result"
    }
   ],
   "source": [
    "row_sums = np.sum(y, axis = 1)\n",
    "row_sums.min(), row_sums.max()"
   ]
  },
  {
   "cell_type": "markdown",
   "id": "26355419-0e09-44dd-b0f4-684fb7bbc42a",
   "metadata": {},
   "source": [
    "## Train-validation split"
   ]
  },
  {
   "cell_type": "markdown",
   "id": "12152e1a-bb47-4ce6-8f1c-30c6f7f3478d",
   "metadata": {},
   "source": [
    "Split the data into training set and validation set:"
   ]
  },
  {
   "cell_type": "code",
   "execution_count": 14,
   "id": "5b010d36-26e9-4bf6-b1af-ea961f75b4e4",
   "metadata": {
    "tags": []
   },
   "outputs": [],
   "source": [
    "# Split threshold\n",
    "num_train = int(len(y) * 0.8)\n",
    "\n",
    "# Training\n",
    "X_train = X[:num_train, :]\n",
    "y_train = y[:num_train, :]\n",
    "\n",
    "# Validation\n",
    "X_valid = X[num_train:, :]\n",
    "y_valid = y[num_train:, :]"
   ]
  },
  {
   "cell_type": "markdown",
   "id": "825ab727-d4f2-41c8-9fae-e0f172bffd16",
   "metadata": {
    "tags": []
   },
   "source": [
    "# Neural Network setup"
   ]
  },
  {
   "cell_type": "code",
   "execution_count": 15,
   "id": "15add4b1-4a1d-4294-b43f-36aaa09af555",
   "metadata": {
    "tags": []
   },
   "outputs": [],
   "source": [
    "import jax\n",
    "import jax.numpy as jnp\n",
    "from tqdm.notebook import trange"
   ]
  },
  {
   "cell_type": "markdown",
   "id": "98bedd76-a6c9-486f-8686-903650b5995a",
   "metadata": {},
   "source": [
    "We have 57 input features, therefore the input layer will consist in 57 neurons.\n",
    "\n",
    "There are 10 classes, therefore we will need 10 output neurons.\n",
    "\n",
    "Given that this is a classification problem, we will also add a softmax layer."
   ]
  },
  {
   "cell_type": "code",
   "execution_count": 16,
   "id": "678478be-d2c3-420f-8d4f-e1fb00c17085",
   "metadata": {
    "tags": []
   },
   "outputs": [
    {
     "data": {
      "text/plain": [
       "((1000, 57), (1000, 10))"
      ]
     },
     "execution_count": 16,
     "metadata": {},
     "output_type": "execute_result"
    }
   ],
   "source": [
    "X.shape, y.shape"
   ]
  },
  {
   "cell_type": "markdown",
   "id": "f4c52ceb-a661-4c20-8577-48cae0179729",
   "metadata": {},
   "source": [
    "Paramaters are initialized with the [Glorot, Bengio 2010](http://proceedings.mlr.press/v9/glorot10a/glorot10a.pdf) method:"
   ]
  },
  {
   "cell_type": "code",
   "execution_count": 17,
   "id": "feecd5e0-ead5-498a-a39b-0681889c89dd",
   "metadata": {},
   "outputs": [],
   "source": [
    "def initialize_params(layers_size):\n",
    "    np.random.seed(0)\n",
    "    params = list()\n",
    "    num_layers = len(layers_size) - 1\n",
    "\n",
    "    for i in range(num_layers):\n",
    "        std = np.sqrt(2 / (layers_size[i+1] +  layers_size[i]))\n",
    "        W = np.random.randn(layers_size[i+1], layers_size[i]) * std\n",
    "        b = np.zeros((layers_size[i+1], 1))\n",
    "\n",
    "        params.append(W)\n",
    "        params.append(b)\n",
    "        \n",
    "    return params"
   ]
  },
  {
   "cell_type": "markdown",
   "id": "bde4c0e3-3c10-4a8a-8933-81eea74b027b",
   "metadata": {},
   "source": [
    "Fully-connected NN:"
   ]
  },
  {
   "cell_type": "code",
   "execution_count": 18,
   "id": "68e2e3a0-cfc5-4a3b-b066-c60ac6462069",
   "metadata": {},
   "outputs": [],
   "source": [
    "# Hyperbolic tangent\n",
    "# jnp.tanh(layer)\n",
    "\n",
    "# Leaky ReLU\n",
    "a = 0.01\n",
    "# jnp.maximum(a*layer, layer)  \n",
    "\n",
    "# Exponential LU\n",
    "# a = 0.1\n",
    "# a*(layer<0)*(jnp.exp(layer) - 1) + (layer>=0)*layer  \n",
    "\n",
    "def ANN(x, params):\n",
    "    layers_num = int((len(params) / 2) + 1)\n",
    "    weights = params[0::2] \n",
    "    biases = params[1::2]\n",
    "\n",
    "    # Input layer\n",
    "    layer = x.T\n",
    "\n",
    "    # Hidden layers\n",
    "    for i in range(layers_num - 1):\n",
    "        # print(f'W:{weights[i].shape} - layer:{layer.shape} - b:{biases[i].shape}')\n",
    "        layer = weights[i] @ layer - biases[i]\n",
    "\n",
    "        # Activation function in all layers except the last one\n",
    "        if i < layers_num - 2:\n",
    "            layer = jnp.tanh(layer) \n",
    "\n",
    "    # Softmax layer\n",
    "    layer_exp = jnp.exp(layer)\n",
    "    layer = layer_exp / jnp.sum(layer_exp, axis=0)\n",
    "\n",
    "    return layer.T"
   ]
  },
  {
   "cell_type": "markdown",
   "id": "ba5c37aa-2aa4-4e61-89a1-fc56d392b463",
   "metadata": {},
   "source": [
    "Test the network:"
   ]
  },
  {
   "cell_type": "code",
   "execution_count": 19,
   "id": "43ee1562-8310-4df9-995c-fa6a8c044847",
   "metadata": {
    "tags": []
   },
   "outputs": [
    {
     "data": {
      "text/plain": [
       "(1, 10)"
      ]
     },
     "execution_count": 19,
     "metadata": {},
     "output_type": "execute_result"
    }
   ],
   "source": [
    "layers_size = [57, 48, 32, 16, 10]\n",
    "params = initialize_params(layers_size)\n",
    "x = X_train[0,:]\n",
    "x = x[np.newaxis]\n",
    "y_pred = ANN(x, params)\n",
    "y_pred.shape"
   ]
  },
  {
   "cell_type": "markdown",
   "id": "f08f8f74-6666-49a8-913f-201e5bdcf0ae",
   "metadata": {
    "tags": []
   },
   "source": [
    "# Loss function"
   ]
  },
  {
   "cell_type": "markdown",
   "id": "8edf8918-a3e0-41bd-aebd-118e2f007ff5",
   "metadata": {},
   "source": [
    "Given that we are working on a classification problem, we will use the cross-entropy loss function."
   ]
  },
  {
   "cell_type": "code",
   "execution_count": 20,
   "id": "02824b8b-790c-4eaf-b0c5-a17a7f9ae525",
   "metadata": {},
   "outputs": [],
   "source": [
    "def crossentropy(x, y, params):\n",
    "    y_pred = ANN(x, params)\n",
    "    return -jnp.mean(jnp.sum(y * jnp.log(y_pred), axis=1))"
   ]
  },
  {
   "cell_type": "markdown",
   "id": "5ef239ce-c4c8-49d8-a2f1-4f474cfba201",
   "metadata": {},
   "source": [
    "def MSW(params):\n",
    "  weights = params[0::2]\n",
    "  partial_sum = 0.0\n",
    "  n_weights = 0\n",
    "\n",
    "  for W in weights:\n",
    "    partial_sum += jnp.sum(W**2)\n",
    "    n_weights += W.shape[0] * W.shape[1]\n",
    "  return partial_sum / n_weights\n",
    "\n",
    "def loss(x, y, params, penalization):\n",
    "  return MSE(x, y, params) + penalization * MSW(params)\n",
    "\n",
    "print(MSW(params))\n",
    "print(loss(x_train, y_train, params, 1.0))We regualizare the weights by implementing an $l^2$ regularization term for the ANN weights:\n",
    "$$\n",
    "\\mathrm{MSW} = \\frac{1}{n_{weights}} \\sum_{i=1}^{n_{weights}} w_i^2\n",
    "$$"
   ]
  },
  {
   "cell_type": "code",
   "execution_count": 21,
   "id": "fe15af60-3aec-44c5-a5e7-7d02eb459f33",
   "metadata": {},
   "outputs": [],
   "source": [
    "def MSW(params):\n",
    "    weights = params[0::2]\n",
    "    partial_sum = 0.0\n",
    "    n_weights = 0\n",
    "\n",
    "    for W in weights:\n",
    "        partial_sum += jnp.sum(W**2)\n",
    "        n_weights += W.shape[0] * W.shape[1]\n",
    "    return partial_sum / n_weights"
   ]
  },
  {
   "cell_type": "markdown",
   "id": "49fb3790-4a91-429f-b653-ecee25d14613",
   "metadata": {},
   "source": [
    "The loss function will be: $\\mathcal{L} = \\mathrm{MSE} + \\beta \\, \\mathrm{MSW}$\n",
    "where $\\beta$ is a suitable penalization parameter."
   ]
  },
  {
   "cell_type": "code",
   "execution_count": 22,
   "id": "403cc9d7-762e-4020-9faa-9b0dd7afa382",
   "metadata": {},
   "outputs": [],
   "source": [
    "def loss(x, y, params, penalization):\n",
    "    return crossentropy(x, y, params) + penalization * MSW(params)"
   ]
  },
  {
   "cell_type": "markdown",
   "id": "ea8ff4f0-b7b1-4f77-b158-1c9273d0ab31",
   "metadata": {},
   "source": [
    "We will keep track of the performance of the model using the accuracy."
   ]
  },
  {
   "cell_type": "code",
   "execution_count": 23,
   "id": "b3f785f2-fd73-48d0-bd29-2c3addfde20a",
   "metadata": {},
   "outputs": [],
   "source": [
    "def accuracy(x, y, params):\n",
    "    y_pred = ANN(x, params)\n",
    "    labels = jnp.argmax(y, axis=1)\n",
    "    labels_pred = jnp.argmax(y_pred, axis=1)\n",
    "    return jnp.mean(labels == labels_pred)"
   ]
  },
  {
   "cell_type": "markdown",
   "id": "11c71618-e676-4765-8b8d-aefe893674c9",
   "metadata": {},
   "source": [
    "We compute the gradient of the loss function using `jax`."
   ]
  },
  {
   "cell_type": "code",
   "execution_count": 24,
   "id": "23d0952c-dac7-427c-86d2-b7242ec330c5",
   "metadata": {},
   "outputs": [],
   "source": [
    "grad = jax.grad(loss, argnums=2)"
   ]
  },
  {
   "cell_type": "markdown",
   "id": "85cda89a-079d-4cba-8644-c96840e14586",
   "metadata": {},
   "source": [
    "We compile the functions exploiting JIT to speed up the computation."
   ]
  },
  {
   "cell_type": "code",
   "execution_count": 25,
   "id": "e24f6c02-fa68-4dc8-adb8-b758bf06658b",
   "metadata": {},
   "outputs": [],
   "source": [
    "crossentropy_jit = jax.jit(crossentropy)\n",
    "loss_jit = jax.jit(loss)\n",
    "acc_jit = jax.jit(accuracy)\n",
    "grad_jit = jax.jit(grad)"
   ]
  },
  {
   "cell_type": "markdown",
   "id": "36465e87-d65e-4989-9980-a8a632cfb150",
   "metadata": {
    "jp-MarkdownHeadingCollapsed": true,
    "tags": []
   },
   "source": [
    "# Interactive plotting setup"
   ]
  },
  {
   "cell_type": "code",
   "execution_count": 26,
   "id": "5cd00aeb-9529-4e11-bbd5-11e7818b685a",
   "metadata": {
    "tags": []
   },
   "outputs": [],
   "source": [
    "from IPython import display\n",
    "import time\n",
    "\n",
    "class Callback:\n",
    "    def __init__(self, refresh_rate = 250):\n",
    "        self.refresh_rate = refresh_rate\n",
    "        self.fig, self.axs = plt.subplots(1, figsize=(16,8))\n",
    "        self.epoch = 0\n",
    "        self.__call__(-1)\n",
    "\n",
    "    def __call__(self, epoch):\n",
    "        self.epoch = epoch\n",
    "        if (epoch + 1) % self.refresh_rate == 0:\n",
    "            self.draw()\n",
    "            display.clear_output(wait=True)\n",
    "            display.display(plt.gcf())\n",
    "            time.sleep(1e-16)\n",
    "\n",
    "    def draw(self):\n",
    "        if self.epoch > 0:\n",
    "            self.axs.clear()\n",
    "            epochs = np.arange(1,len(history_train) + 1)\n",
    "            self.axs.loglog(epochs, history_train, label = 'Train')\n",
    "            self.axs.loglog(epochs, history_valid, label = 'Validation')\n",
    "            self.axs.loglog(epochs, history_acc, label = 'Accuracy')\n",
    "\n",
    "            self.axs.legend()\n",
    "            self.axs.set_title(f'Epoch: {self.epoch + 1} - Accuracy: {history_acc[-1]:.2%}')"
   ]
  },
  {
   "cell_type": "markdown",
   "id": "3ba8afc9-27f1-4584-89f4-03dbbcdc9c41",
   "metadata": {},
   "source": [
    "# Training"
   ]
  },
  {
   "cell_type": "markdown",
   "id": "cdf5f0d8-f90b-421f-b762-da173d610b62",
   "metadata": {},
   "source": [
    "We train the NN using RMSProp."
   ]
  },
  {
   "cell_type": "code",
   "execution_count": 27,
   "id": "089834d2-69cb-47b1-9ac7-b78904eecb5b",
   "metadata": {
    "tags": []
   },
   "outputs": [],
   "source": [
    "jax.config.update('jax_platform_name', 'cpu')"
   ]
  },
  {
   "cell_type": "code",
   "execution_count": 28,
   "id": "64273d3f-2ba1-4ea5-87f4-ceb097a5cbc9",
   "metadata": {
    "tags": []
   },
   "outputs": [
    {
     "data": {
      "image/png": "[encoded data removed]",
      "text/plain": [
       "<Figure size 1600x800 with 1 Axes>"
      ]
     },
     "metadata": {},
     "output_type": "display_data"
    },
    {
     "name": "stdout",
     "output_type": "stream",
     "text": [
      "Training error: 0.025058296\n",
      "Validation error: 1.0129514\n",
      "Accuracy: 0.745\n"
     ]
    },
    {
     "data": {
      "image/png": "[encoded data removed]",
      "text/plain": [
       "<Figure size 1600x800 with 1 Axes>"
      ]
     },
     "metadata": {},
     "output_type": "display_data"
    }
   ],
   "source": [
    "# Hyper-parameters\n",
    "learning_rate = 5e-4\n",
    "num_epochs = 10_000\n",
    "minibatch_size = 10\n",
    "delta = 1e-7\n",
    "decay_rate = 0.9\n",
    "penalization = 2.5\n",
    "\n",
    "# Initialize parameters\n",
    "layers_size = [57, 25, 25, 10]\n",
    "params = initialize_params(layers_size)\n",
    "num_training_samples = len(y_train)\n",
    "\n",
    "# Keep track of the history of the training\n",
    "history_train = [crossentropy_jit(X_train, y_train, params)]\n",
    "history_valid = [crossentropy_jit(X_valid, y_valid, params)]\n",
    "history_acc   = [acc_jit(X_valid, y_valid, params)]\n",
    "\n",
    "# Training loop\n",
    "cb = Callback(refresh_rate=100)\n",
    "cumulated_square_grad = [0.0 for i in range(len(params))]\n",
    "for k in trange(num_epochs):\n",
    "    idxs = np.random.choice(num_training_samples, minibatch_size)\n",
    "    grads = grad_jit(X_train[idxs,:], y_train[idxs,:], params, penalization)\n",
    "\n",
    "    for i in range(len(params)):\n",
    "        cumulated_square_grad[i] = decay_rate * cumulated_square_grad[i] + (1 - decay_rate) * grads[i]**2\n",
    "        params[i] -= learning_rate / (delta + jnp.sqrt(cumulated_square_grad[i])) * grads[i]\n",
    "\n",
    "    history_train.append(crossentropy_jit(X_train, y_train, params))\n",
    "    history_valid.append(crossentropy_jit(X_valid, y_valid, params))\n",
    "    history_acc.append(acc_jit(X_valid, y_valid, params))\n",
    "    \n",
    "    # Plot interactively\n",
    "    cb(k)\n",
    "\n",
    "# Print the final errors\n",
    "print(\"Training error:\", history_train[-1])\n",
    "print(\"Validation error:\", history_valid[-1])\n",
    "print(\"Accuracy:\", history_acc[-1])\n",
    "\n",
    "# Plot the history of the errors to check the behaviour\n",
    "# plt.loglog(history_train, label=\"Train\")\n",
    "# plt.loglog(history_valid, label=\"Validation\")\n",
    "# plt.loglog(history_acc, label=\"Accuracy\")\n",
    "# plt.legend()"
   ]
  },
  {
   "cell_type": "markdown",
   "id": "9b8733be-38bc-4c17-a542-488fe7ed463b",
   "metadata": {},
   "source": [
    "# Testing"
   ]
  },
  {
   "cell_type": "code",
   "execution_count": null,
   "id": "ddf59755-4166-44e4-a3e2-94ed3989a889",
   "metadata": {},
   "outputs": [],
   "source": []
  }
 ],
 "metadata": {
  "kernelspec": {
   "display_name": "Python 3 (ipykernel)",
   "language": "python",
   "name": "python3"
  },
  "language_info": {
   "codemirror_mode": {
    "name": "ipython",
    "version": 3
   },
   "file_extension": ".py",
   "mimetype": "text/x-python",
   "name": "python",
   "nbconvert_exporter": "python",
   "pygments_lexer": "ipython3",
   "version": "3.8.10"
  },
  "toc-autonumbering": true
 },
 "nbformat": 4,
 "nbformat_minor": 5
}
