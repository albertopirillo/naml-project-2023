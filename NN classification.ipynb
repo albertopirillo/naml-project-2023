{
 "cells": [
  {
   "cell_type": "markdown",
   "id": "690a8bec-f9db-41e0-bfbe-4b43496ebd82",
   "metadata": {},
   "source": [
    "# NN Classification"
   ]
  },
  {
   "cell_type": "code",
   "execution_count": 1,
   "id": "c5b47f22-36b3-4d5e-9c3f-eb5527577e52",
   "metadata": {
    "tags": []
   },
   "outputs": [],
   "source": [
    "import numpy as np\n",
    "import pandas as pd\n",
    "import seaborn as sns\n",
    "import matplotlib.pyplot as plt"
   ]
  },
  {
   "cell_type": "markdown",
   "id": "410c1b5f-77da-4d53-b949-89b60a1db5fe",
   "metadata": {
    "tags": []
   },
   "source": [
    "## Pre-processing"
   ]
  },
  {
   "cell_type": "code",
   "execution_count": 2,
   "id": "d22b66ea-4a38-4a13-bdbb-22a49d4d6ec7",
   "metadata": {
    "tags": []
   },
   "outputs": [],
   "source": [
    "file_path = \"./data/features_30_sec.csv\""
   ]
  },
  {
   "cell_type": "markdown",
   "id": "b49c2500-e698-40ae-a0c0-a2b91f628b05",
   "metadata": {},
   "source": [
    "Load the dataset:"
   ]
  },
  {
   "cell_type": "code",
   "execution_count": 3,
   "id": "7b96bfca-e39b-4db4-8055-75716821700a",
   "metadata": {
    "tags": []
   },
   "outputs": [],
   "source": [
    "df = pd.read_csv(file_path)"
   ]
  },
  {
   "cell_type": "markdown",
   "id": "b4936c8b-2e85-41c8-ba05-e78204242524",
   "metadata": {},
   "source": [
    "Set the correct datatypes:"
   ]
  },
  {
   "cell_type": "code",
   "execution_count": 21,
   "id": "c7bd37e0-fe07-44be-bfaa-fb51c93dbf38",
   "metadata": {
    "tags": []
   },
   "outputs": [],
   "source": [
    "dtypes = {col:np.float32 for col in df.columns}\n",
    "dtypes[\"filename\"] = \"string\"\n",
    "dtypes[\"length\"] = np.int32\n",
    "dtypes[\"label\"] = \"category\"\n",
    "df = df.astype(dtypes)"
   ]
  },
  {
   "cell_type": "markdown",
   "id": "3d9baa86-9c7e-4e40-a70d-5b8b79aa13a4",
   "metadata": {
    "tags": []
   },
   "source": [
    "## Train-validation split"
   ]
  },
  {
   "cell_type": "code",
   "execution_count": 23,
   "id": "60303663-15f2-436c-8b9e-fb4d96bbfd86",
   "metadata": {
    "tags": []
   },
   "outputs": [],
   "source": [
    "y = df[\"label\"].to_numpy()"
   ]
  },
  {
   "cell_type": "code",
   "execution_count": 24,
   "id": "463196e9-62c1-45d7-a55e-a1a488b2eae4",
   "metadata": {
    "tags": []
   },
   "outputs": [],
   "source": [
    "X = df.drop([\"filename\", \"label\"], axis=1).to_numpy()"
   ]
  },
  {
   "cell_type": "markdown",
   "id": "8117954a-c393-4f7e-b074-3b32822b95ba",
   "metadata": {},
   "source": [
    "Shuffle the data:"
   ]
  },
  {
   "cell_type": "code",
   "execution_count": 26,
   "id": "f1f422a1-693d-499c-8b56-68e73e086dc5",
   "metadata": {
    "tags": []
   },
   "outputs": [],
   "source": [
    "np.random.seed(0)\n",
    "random_idxs = np.arange(len(y))\n",
    "np.random.shuffle(random_idxs)\n",
    "\n",
    "# Reorder the indexes\n",
    "X = X[random_idxs]\n",
    "y = y[random_idxs]"
   ]
  },
  {
   "cell_type": "markdown",
   "id": "12152e1a-bb47-4ce6-8f1c-30c6f7f3478d",
   "metadata": {},
   "source": [
    "Split the data into training set and validation set:"
   ]
  },
  {
   "cell_type": "code",
   "execution_count": 32,
   "id": "5b010d36-26e9-4bf6-b1af-ea961f75b4e4",
   "metadata": {
    "tags": []
   },
   "outputs": [],
   "source": [
    "# Split threshold\n",
    "num_train = int(len(y) * 0.8)\n",
    "\n",
    "# Training\n",
    "X_train = X[:num_train]\n",
    "y_train = y[:num_train]\n",
    "\n",
    "# Validation\n",
    "X_valid = X[num_train:]\n",
    "y_valid = y[num_train:]"
   ]
  },
  {
   "cell_type": "markdown",
   "id": "7691de5c-93c2-4fac-bc1b-83b125ac340e",
   "metadata": {
    "tags": []
   },
   "source": [
    "## Data Normalization"
   ]
  },
  {
   "cell_type": "markdown",
   "id": "6bb9bb08-3189-4cfd-827d-cd3f206be190",
   "metadata": {},
   "source": [
    "Mean and the standard deviation should be computed w.r.t. the training set only:"
   ]
  },
  {
   "cell_type": "code",
   "execution_count": 50,
   "id": "692a2b8a-1805-436d-90be-9227c88b0b8b",
   "metadata": {
    "tags": []
   },
   "outputs": [],
   "source": [
    "mean =  X_train.mean()\n",
    "std = X_train.std()"
   ]
  },
  {
   "cell_type": "code",
   "execution_count": 51,
   "id": "f15d5e79-5875-4b77-9eca-824a41a43be3",
   "metadata": {
    "tags": []
   },
   "outputs": [],
   "source": [
    "X_train_norm = (X_train - mean) / std"
   ]
  },
  {
   "cell_type": "markdown",
   "id": "71adde42-881b-43bf-93b9-3d0928ff7cc0",
   "metadata": {},
   "source": [
    "Check the results:"
   ]
  },
  {
   "cell_type": "code",
   "execution_count": 52,
   "id": "36912268-af0d-4520-87f0-0a7b3c649bdc",
   "metadata": {
    "tags": []
   },
   "outputs": [
    {
     "name": "stdout",
     "output_type": "stream",
     "text": [
      "Mean: 0.000\n",
      "Standard deviation: 1.0\n"
     ]
    }
   ],
   "source": [
    "print(f\"Mean: {X_train_norm.mean():.3f}\")\n",
    "print(f\"Standard deviation: {X_train_norm.std()}\")"
   ]
  },
  {
   "cell_type": "markdown",
   "id": "825ab727-d4f2-41c8-9fae-e0f172bffd16",
   "metadata": {
    "tags": []
   },
   "source": [
    "# Neural Network setup"
   ]
  },
  {
   "cell_type": "code",
   "execution_count": 58,
   "id": "678478be-d2c3-420f-8d4f-e1fb00c17085",
   "metadata": {
    "tags": []
   },
   "outputs": [
    {
     "data": {
      "text/plain": [
       "((1000, 58), (1000,))"
      ]
     },
     "execution_count": 58,
     "metadata": {},
     "output_type": "execute_result"
    }
   ],
   "source": [
    "X.shape, y.shape"
   ]
  },
  {
   "cell_type": "markdown",
   "id": "7a98f37a-1650-42b9-857e-d8176b0b9b29",
   "metadata": {},
   "source": [
    "We have 58 input features, therefore the input layer will consist in 58 neurons.\n",
    "\n",
    "There is only one output, therefore only one output neuron.\n",
    "\n",
    "Given that this is a classification problem, we will also add a softmax layer."
   ]
  },
  {
   "cell_type": "markdown",
   "id": "3ba8afc9-27f1-4584-89f4-03dbbcdc9c41",
   "metadata": {},
   "source": [
    "# Training"
   ]
  },
  {
   "cell_type": "markdown",
   "id": "cdf5f0d8-f90b-421f-b762-da173d610b62",
   "metadata": {},
   "source": [
    "To train the NN, we will use AdaGrad or RMSProp."
   ]
  },
  {
   "cell_type": "code",
   "execution_count": 54,
   "id": "c3c3ca64-5c8d-4a4f-9c52-aaf1a6de75c3",
   "metadata": {
    "tags": []
   },
   "outputs": [],
   "source": [
    "# Hyper-parameters"
   ]
  },
  {
   "cell_type": "code",
   "execution_count": null,
   "id": "64273d3f-2ba1-4ea5-87f4-ceb097a5cbc9",
   "metadata": {},
   "outputs": [],
   "source": []
  }
 ],
 "metadata": {
  "kernelspec": {
   "display_name": "Python 3 (ipykernel)",
   "language": "python",
   "name": "python3"
  },
  "language_info": {
   "codemirror_mode": {
    "name": "ipython",
    "version": 3
   },
   "file_extension": ".py",
   "mimetype": "text/x-python",
   "name": "python",
   "nbconvert_exporter": "python",
   "pygments_lexer": "ipython3",
   "version": "3.11.1"
  },
  "toc-autonumbering": false
 },
 "nbformat": 4,
 "nbformat_minor": 5
}
