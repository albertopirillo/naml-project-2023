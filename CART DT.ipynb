{
 "cells": [
  {
   "cell_type": "markdown",
   "id": "20152598-1387-4573-95e0-fb9c70b009c6",
   "metadata": {
    "tags": []
   },
   "source": [
    "# CART Decision Tree"
   ]
  },
  {
   "cell_type": "code",
   "execution_count": 1,
   "id": "dde3e4a9-6a23-47cf-9b0d-b02d06066866",
   "metadata": {
    "tags": []
   },
   "outputs": [],
   "source": [
    "import numpy as np\n",
    "import pandas as pd\n",
    "import seaborn as sns"
   ]
  },
  {
   "cell_type": "markdown",
   "id": "1b9988a9-429d-4f98-a485-c51e898c7f37",
   "metadata": {
    "tags": []
   },
   "source": [
    "## Pre-processing"
   ]
  },
  {
   "cell_type": "markdown",
   "id": "71699702-599c-4eca-b3cb-c1461232bda5",
   "metadata": {},
   "source": [
    "Load and pre-process the dataset:"
   ]
  },
  {
   "cell_type": "code",
   "execution_count": 2,
   "id": "7415b33a-57ce-467a-91d0-49a519576aba",
   "metadata": {
    "tags": []
   },
   "outputs": [],
   "source": [
    "from lib import pre_processing\n",
    "file_path = \"./data/features_3_sec.csv\"\n",
    "df = pd.read_csv(file_path)\n",
    "df = pre_processing(df)"
   ]
  },
  {
   "cell_type": "markdown",
   "id": "617ae0ce-2c5f-4e07-9c51-20ec9424fd41",
   "metadata": {
    "tags": []
   },
   "source": [
    "## Data Normalization"
   ]
  },
  {
   "cell_type": "markdown",
   "id": "ed360e06-5345-45b2-993f-07811f0ce7e5",
   "metadata": {},
   "source": [
    "There is no need to normalize the data with decision trees."
   ]
  },
  {
   "cell_type": "code",
   "execution_count": 3,
   "id": "2ce50070-1258-48ea-99d4-6f56027d2106",
   "metadata": {
    "tags": []
   },
   "outputs": [],
   "source": [
    "df_numpy = df.to_numpy()\n",
    "X = df_numpy[:,:-1]\n",
    "y = df_numpy[:, -1]"
   ]
  },
  {
   "cell_type": "code",
   "execution_count": 4,
   "id": "bc958438-12ac-4d30-80a7-9779e2e3b4d2",
   "metadata": {
    "tags": []
   },
   "outputs": [
    {
     "data": {
      "text/plain": [
       "((9990, 57), (9990,))"
      ]
     },
     "execution_count": 4,
     "metadata": {},
     "output_type": "execute_result"
    }
   ],
   "source": [
    "X.shape, y.shape"
   ]
  },
  {
   "cell_type": "markdown",
   "id": "2576e287-6942-4b3f-a4dd-df4729cad58d",
   "metadata": {},
   "source": [
    "However, we need a numerical enconding for the labels."
   ]
  },
  {
   "cell_type": "code",
   "execution_count": 5,
   "id": "72026261-0010-409d-8b13-ccc975e5e08f",
   "metadata": {
    "tags": []
   },
   "outputs": [],
   "source": [
    "df_numpy = df.to_numpy()\n",
    "X = df_numpy[:,:-1]\n",
    "y = df_numpy[:, -1]"
   ]
  },
  {
   "cell_type": "code",
   "execution_count": 6,
   "id": "3535d9c8-d729-4b2b-8178-1d4c48b485f2",
   "metadata": {
    "tags": []
   },
   "outputs": [],
   "source": [
    "from lib import encode_labels\n",
    "y_ohe = encode_labels(y)"
   ]
  },
  {
   "cell_type": "code",
   "execution_count": 7,
   "id": "27225294-9acd-49df-9e4c-591f04e31173",
   "metadata": {
    "tags": []
   },
   "outputs": [
    {
     "data": {
      "text/plain": [
       "((9990, 57), (9990, 10))"
      ]
     },
     "execution_count": 7,
     "metadata": {},
     "output_type": "execute_result"
    }
   ],
   "source": [
    "X.shape, y_ohe.shape"
   ]
  },
  {
   "cell_type": "markdown",
   "id": "1d25bde7-c059-432a-b964-a64da0c28733",
   "metadata": {},
   "source": [
    "## Mutliclass CART DT"
   ]
  },
  {
   "cell_type": "code",
   "execution_count": 8,
   "id": "764abc0b-967e-49c2-9aca-b8bc5b11bedf",
   "metadata": {},
   "outputs": [],
   "source": [
    "from sklearn import tree\n",
    "from sklearn.model_selection import train_test_split\n",
    "\n",
    "def fit_dtree(X, y, test_size):\n",
    "    # Train-validation split\n",
    "    X_train, X_test, y_train, y_test = train_test_split(X, y, test_size=test_size, random_state=0)\n",
    "    \n",
    "    # Fit the model\n",
    "    dtree = tree.DecisionTreeClassifier()\n",
    "    dtree = dtree.fit(X_train, y_train)\n",
    "    y_pred = dtree.predict(X_test)\n",
    "    \n",
    "    # Return the accuracy\n",
    "    return ((y_test == y_pred).sum() / len(y_test))"
   ]
  },
  {
   "cell_type": "code",
   "execution_count": 9,
   "id": "0275b36a-a5b8-47ca-9e37-fac7b4259be4",
   "metadata": {},
   "outputs": [
    {
     "name": "stdout",
     "output_type": "stream",
     "text": [
      "| Genre: multiclass | Accuracy: 63.876% |\n"
     ]
    }
   ],
   "source": [
    "accuracy_list = []\n",
    "accuracy = fit_dtree(X, y, 0.33)\n",
    "accuracy_list.append(accuracy*100)\n",
    "print(f\"| Genre: multiclass | Accuracy: {accuracy:.3%} |\")"
   ]
  },
  {
   "cell_type": "code",
   "execution_count": 10,
   "id": "94d72bad-8897-44ae-91a9-7bd58d17e657",
   "metadata": {
    "tags": []
   },
   "outputs": [],
   "source": [
    "# from sklearn.tree import export_text\n",
    "# print(export_text(dtree, feature_names=list(df_num.columns)))"
   ]
  },
  {
   "cell_type": "markdown",
   "id": "228b45c2-05bb-402e-88b0-5cb18388f987",
   "metadata": {
    "tags": []
   },
   "source": [
    "## Balanced Binary CART DT"
   ]
  },
  {
   "cell_type": "markdown",
   "id": "daf2c408-92c1-484e-9414-8208a51b22b8",
   "metadata": {},
   "source": [
    "We want classes to have the same number of elements.\n",
    "\n",
    "Therefore, in this case we will randomly select samples from the other classes."
   ]
  },
  {
   "cell_type": "code",
   "execution_count": 11,
   "id": "366673de-7bb1-4e00-9272-16e2997f7b5d",
   "metadata": {
    "tags": []
   },
   "outputs": [],
   "source": [
    "genres = ['blues', 'classical', 'country', 'disco', 'hiphop','jazz', 'metal', 'pop', 'reggae', 'rock']"
   ]
  },
  {
   "cell_type": "code",
   "execution_count": 12,
   "id": "e794f907-a30e-4354-873d-be7b21713245",
   "metadata": {
    "tags": []
   },
   "outputs": [
    {
     "name": "stdout",
     "output_type": "stream",
     "text": [
      "| Genre: blues     | Accuracy: 82.879% |\n",
      "| Genre: classical | Accuracy: 94.537% |\n",
      "| Genre: country   | Accuracy: 80.728% |\n",
      "| Genre: disco     | Accuracy: 78.636% |\n",
      "| Genre: hiphop    | Accuracy: 85.736% |\n",
      "| Genre: jazz      | Accuracy: 86.970% |\n",
      "| Genre: metal     | Accuracy: 89.394% |\n",
      "| Genre: pop       | Accuracy: 88.485% |\n",
      "| Genre: reggae    | Accuracy: 84.848% |\n",
      "| Genre: rock      | Accuracy: 72.534% |\n"
     ]
    }
   ],
   "source": [
    "from lib import balance_classes\n",
    "for genre in genres:\n",
    "    Xi, yi = balance_classes(X, y, genre)\n",
    "    accuracy = fit_dtree(Xi, yi, 0.33)\n",
    "    accuracy_list.append(accuracy*100)\n",
    "    print(f\"| Genre: {genre:9} | Accuracy: {accuracy:.3%} |\")"
   ]
  },
  {
   "cell_type": "code",
   "execution_count": 13,
   "id": "24f7a35b-41c3-413e-b9b2-f332275b8b07",
   "metadata": {},
   "outputs": [
    {
     "data": {
      "image/png": "[encoded data removed]",
      "text/plain": [
       "<Figure size 1200x600 with 1 Axes>"
      ]
     },
     "metadata": {},
     "output_type": "display_data"
    }
   ],
   "source": [
    "from lib import plot_accuracies\n",
    "labels = ['multiclass'] + genres\n",
    "plot_accuracies(labels, accuracy_list, \"Balanced CART Decision Tree classification\")"
   ]
  }
 ],
 "metadata": {
  "kernelspec": {
   "display_name": "Python 3 (ipykernel)",
   "language": "python",
   "name": "python3"
  },
  "language_info": {
   "codemirror_mode": {
    "name": "ipython",
    "version": 3
   },
   "file_extension": ".py",
   "mimetype": "text/x-python",
   "name": "python",
   "nbconvert_exporter": "python",
   "pygments_lexer": "ipython3",
   "version": "3.8.10"
  }
 },
 "nbformat": 4,
 "nbformat_minor": 5
}
