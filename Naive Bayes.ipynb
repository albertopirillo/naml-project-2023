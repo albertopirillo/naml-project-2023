{
 "cells": [
  {
   "cell_type": "markdown",
   "id": "b23d8c5e-896f-4ac7-b51b-624503f31ed5",
   "metadata": {},
   "source": [
    "# Naive Bayes"
   ]
  },
  {
   "cell_type": "code",
   "execution_count": 1,
   "id": "f61e0b11-cd0c-4db6-a81d-ea3255111f3d",
   "metadata": {
    "tags": []
   },
   "outputs": [],
   "source": [
    "import numpy as np\n",
    "import pandas as pd\n",
    "import seaborn as sns"
   ]
  },
  {
   "cell_type": "markdown",
   "id": "b1d3f28c-1185-4649-bea4-b5379d64c53a",
   "metadata": {
    "tags": []
   },
   "source": [
    "## Pre-processing"
   ]
  },
  {
   "cell_type": "code",
   "execution_count": 2,
   "id": "3cb190c7-baef-4786-bc1a-2626b578c24d",
   "metadata": {
    "tags": []
   },
   "outputs": [],
   "source": [
    "file_path = \"./data/features_3_sec.csv\""
   ]
  },
  {
   "cell_type": "markdown",
   "id": "97861145-d02b-4990-aeac-3933ff15a3b8",
   "metadata": {},
   "source": [
    "Load the dataset:"
   ]
  },
  {
   "cell_type": "code",
   "execution_count": 3,
   "id": "3d0e8c9f-0635-49d1-8e0d-19f3160867bb",
   "metadata": {
    "tags": []
   },
   "outputs": [],
   "source": [
    "df = pd.read_csv(file_path)\n",
    "df= df.drop(['filename', 'length'], axis=1)\n",
    "dtypes = {col:np.float32 for col in df.columns}\n",
    "dtypes[\"label\"] = \"category\"\n",
    "df = df.astype(dtypes)"
   ]
  },
  {
   "cell_type": "markdown",
   "id": "35486710-a80a-4935-9b78-548bed6d4f4f",
   "metadata": {
    "tags": []
   },
   "source": [
    "## Data Normalization"
   ]
  },
  {
   "cell_type": "code",
   "execution_count": 6,
   "id": "ff6451b8-12f8-4f3e-b514-dcfc31cee46b",
   "metadata": {},
   "outputs": [],
   "source": [
    "df_num = df.select_dtypes(include='number')\n",
    "mean = df_num.mean()\n",
    "std = df_num.std()\n",
    "df_norm = (df_num - mean) / std\n",
    "df[df_norm.columns] = df_norm"
   ]
  },
  {
   "cell_type": "markdown",
   "id": "d0ca9286-a24c-40bd-bf7a-0da3257e08b5",
   "metadata": {},
   "source": [
    "Check the results:"
   ]
  },
  {
   "cell_type": "code",
   "execution_count": 7,
   "id": "2ee1e563-3a00-4b73-b4b7-0c125b84c90d",
   "metadata": {
    "tags": []
   },
   "outputs": [
    {
     "data": {
      "text/html": [
       "<div>\n",
       "<style scoped>\n",
       "    .dataframe tbody tr th:only-of-type {\n",
       "        vertical-align: middle;\n",
       "    }\n",
       "\n",
       "    .dataframe tbody tr th {\n",
       "        vertical-align: top;\n",
       "    }\n",
       "\n",
       "    .dataframe thead th {\n",
       "        text-align: right;\n",
       "    }\n",
       "</style>\n",
       "<table border=\"1\" class=\"dataframe\">\n",
       "  <thead>\n",
       "    <tr style=\"text-align: right;\">\n",
       "      <th></th>\n",
       "      <th>chroma_stft_mean</th>\n",
       "      <th>chroma_stft_var</th>\n",
       "      <th>rms_mean</th>\n",
       "      <th>rms_var</th>\n",
       "      <th>spectral_centroid_mean</th>\n",
       "      <th>spectral_centroid_var</th>\n",
       "      <th>spectral_bandwidth_mean</th>\n",
       "      <th>spectral_bandwidth_var</th>\n",
       "      <th>rolloff_mean</th>\n",
       "      <th>rolloff_var</th>\n",
       "      <th>...</th>\n",
       "      <th>mfcc16_mean</th>\n",
       "      <th>mfcc16_var</th>\n",
       "      <th>mfcc17_mean</th>\n",
       "      <th>mfcc17_var</th>\n",
       "      <th>mfcc18_mean</th>\n",
       "      <th>mfcc18_var</th>\n",
       "      <th>mfcc19_mean</th>\n",
       "      <th>mfcc19_var</th>\n",
       "      <th>mfcc20_mean</th>\n",
       "      <th>mfcc20_var</th>\n",
       "    </tr>\n",
       "  </thead>\n",
       "  <tbody>\n",
       "    <tr>\n",
       "      <th>count</th>\n",
       "      <td>9.990000e+03</td>\n",
       "      <td>9.990000e+03</td>\n",
       "      <td>9.990000e+03</td>\n",
       "      <td>9.990000e+03</td>\n",
       "      <td>9.990000e+03</td>\n",
       "      <td>9.990000e+03</td>\n",
       "      <td>9.990000e+03</td>\n",
       "      <td>9.990000e+03</td>\n",
       "      <td>9.990000e+03</td>\n",
       "      <td>9.990000e+03</td>\n",
       "      <td>...</td>\n",
       "      <td>9.990000e+03</td>\n",
       "      <td>9.990000e+03</td>\n",
       "      <td>9.990000e+03</td>\n",
       "      <td>9.990000e+03</td>\n",
       "      <td>9.990000e+03</td>\n",
       "      <td>9.990000e+03</td>\n",
       "      <td>9.990000e+03</td>\n",
       "      <td>9.990000e+03</td>\n",
       "      <td>9.990000e+03</td>\n",
       "      <td>9.990000e+03</td>\n",
       "    </tr>\n",
       "    <tr>\n",
       "      <th>mean</th>\n",
       "      <td>2.902072e-07</td>\n",
       "      <td>-1.741243e-07</td>\n",
       "      <td>-1.588503e-07</td>\n",
       "      <td>7.637031e-08</td>\n",
       "      <td>2.527858e-07</td>\n",
       "      <td>-4.887700e-08</td>\n",
       "      <td>-6.567847e-08</td>\n",
       "      <td>-4.276738e-08</td>\n",
       "      <td>-4.123997e-08</td>\n",
       "      <td>-1.221925e-08</td>\n",
       "      <td>...</td>\n",
       "      <td>-1.374666e-08</td>\n",
       "      <td>1.344117e-07</td>\n",
       "      <td>3.360294e-08</td>\n",
       "      <td>9.469919e-08</td>\n",
       "      <td>3.818516e-10</td>\n",
       "      <td>3.360294e-08</td>\n",
       "      <td>-3.818516e-08</td>\n",
       "      <td>1.191377e-07</td>\n",
       "      <td>1.374666e-08</td>\n",
       "      <td>-4.887700e-08</td>\n",
       "    </tr>\n",
       "    <tr>\n",
       "      <th>std</th>\n",
       "      <td>1.000000e+00</td>\n",
       "      <td>1.000000e+00</td>\n",
       "      <td>1.000000e+00</td>\n",
       "      <td>1.000000e+00</td>\n",
       "      <td>1.000000e+00</td>\n",
       "      <td>9.999999e-01</td>\n",
       "      <td>1.000000e+00</td>\n",
       "      <td>1.000000e+00</td>\n",
       "      <td>1.000000e+00</td>\n",
       "      <td>9.999999e-01</td>\n",
       "      <td>...</td>\n",
       "      <td>1.000000e+00</td>\n",
       "      <td>9.999999e-01</td>\n",
       "      <td>9.999999e-01</td>\n",
       "      <td>1.000000e+00</td>\n",
       "      <td>9.999999e-01</td>\n",
       "      <td>1.000000e+00</td>\n",
       "      <td>1.000000e+00</td>\n",
       "      <td>9.999999e-01</td>\n",
       "      <td>9.999999e-01</td>\n",
       "      <td>1.000000e+00</td>\n",
       "    </tr>\n",
       "    <tr>\n",
       "      <th>min</th>\n",
       "      <td>-3.011374e+00</td>\n",
       "      <td>-7.215329e+00</td>\n",
       "      <td>-1.895176e+00</td>\n",
       "      <td>-7.464086e-01</td>\n",
       "      <td>-2.296273e+00</td>\n",
       "      <td>-9.560801e-01</td>\n",
       "      <td>-3.203473e+00</td>\n",
       "      <td>-1.155274e+00</td>\n",
       "      <td>-2.379771e+00</td>\n",
       "      <td>-1.092820e+00</td>\n",
       "      <td>...</td>\n",
       "      <td>-4.934179e+00</td>\n",
       "      <td>-1.412862e+00</td>\n",
       "      <td>-4.158801e+00</td>\n",
       "      <td>-1.382892e+00</td>\n",
       "      <td>-4.144461e+00</td>\n",
       "      <td>-1.284838e+00</td>\n",
       "      <td>-4.881090e+00</td>\n",
       "      <td>-1.248231e+00</td>\n",
       "      <td>-6.609836e+00</td>\n",
       "      <td>-1.228151e+00</td>\n",
       "    </tr>\n",
       "    <tr>\n",
       "      <th>25%</th>\n",
       "      <td>-7.056427e-01</td>\n",
       "      <td>-5.233409e-01</td>\n",
       "      <td>-6.867999e-01</td>\n",
       "      <td>-5.750171e-01</td>\n",
       "      <td>-7.561762e-01</td>\n",
       "      <td>-6.747140e-01</td>\n",
       "      <td>-6.507812e-01</td>\n",
       "      <td>-6.857945e-01</td>\n",
       "      <td>-7.233364e-01</td>\n",
       "      <td>-7.178998e-01</td>\n",
       "      <td>...</td>\n",
       "      <td>-6.409107e-01</td>\n",
       "      <td>-5.923980e-01</td>\n",
       "      <td>-6.610471e-01</td>\n",
       "      <td>-6.071125e-01</td>\n",
       "      <td>-6.285243e-01</td>\n",
       "      <td>-5.985955e-01</td>\n",
       "      <td>-6.332051e-01</td>\n",
       "      <td>-5.886019e-01</td>\n",
       "      <td>-5.876163e-01</td>\n",
       "      <td>-5.880443e-01</td>\n",
       "    </tr>\n",
       "    <tr>\n",
       "      <th>50%</th>\n",
       "      <td>5.755606e-02</td>\n",
       "      <td>2.405317e-02</td>\n",
       "      <td>-1.401362e-01</td>\n",
       "      <td>-3.305054e-01</td>\n",
       "      <td>1.251420e-02</td>\n",
       "      <td>-3.485423e-01</td>\n",
       "      <td>-1.987742e-02</td>\n",
       "      <td>-2.793317e-01</td>\n",
       "      <td>3.976777e-02</td>\n",
       "      <td>-3.146979e-01</td>\n",
       "      <td>...</td>\n",
       "      <td>2.333510e-03</td>\n",
       "      <td>-2.405830e-01</td>\n",
       "      <td>-4.303296e-02</td>\n",
       "      <td>-2.628843e-01</td>\n",
       "      <td>-1.191031e-03</td>\n",
       "      <td>-2.791586e-01</td>\n",
       "      <td>-4.011522e-02</td>\n",
       "      <td>-2.774650e-01</td>\n",
       "      <td>-2.157812e-02</td>\n",
       "      <td>-2.797003e-01</td>\n",
       "    </tr>\n",
       "    <tr>\n",
       "      <th>75%</th>\n",
       "      <td>6.953930e-01</td>\n",
       "      <td>6.450537e-01</td>\n",
       "      <td>6.633359e-01</td>\n",
       "      <td>1.267490e-01</td>\n",
       "      <td>6.827897e-01</td>\n",
       "      <td>3.350677e-01</td>\n",
       "      <td>6.379549e-01</td>\n",
       "      <td>3.975931e-01</td>\n",
       "      <td>6.245536e-01</td>\n",
       "      <td>4.254384e-01</td>\n",
       "      <td>...</td>\n",
       "      <td>6.454080e-01</td>\n",
       "      <td>2.696025e-01</td>\n",
       "      <td>6.115077e-01</td>\n",
       "      <td>2.668691e-01</td>\n",
       "      <td>6.077207e-01</td>\n",
       "      <td>2.500203e-01</td>\n",
       "      <td>5.891373e-01</td>\n",
       "      <td>2.489987e-01</td>\n",
       "      <td>5.966193e-01</td>\n",
       "      <td>2.344276e-01</td>\n",
       "    </tr>\n",
       "    <tr>\n",
       "      <th>max</th>\n",
       "      <td>4.089356e+00</td>\n",
       "      <td>3.744895e+00</td>\n",
       "      <td>4.547463e+00</td>\n",
       "      <td>8.349677e+00</td>\n",
       "      <td>4.300418e+00</td>\n",
       "      <td>1.006392e+01</td>\n",
       "      <td>2.696974e+00</td>\n",
       "      <td>1.101989e+01</td>\n",
       "      <td>2.997061e+00</td>\n",
       "      <td>7.623491e+00</td>\n",
       "      <td>...</td>\n",
       "      <td>6.572831e+00</td>\n",
       "      <td>1.840569e+01</td>\n",
       "      <td>6.736832e+00</td>\n",
       "      <td>1.311516e+01</td>\n",
       "      <td>6.992508e+00</td>\n",
       "      <td>1.512008e+01</td>\n",
       "      <td>6.624425e+00</td>\n",
       "      <td>2.616903e+01</td>\n",
       "      <td>6.687237e+00</td>\n",
       "      <td>1.836936e+01</td>\n",
       "    </tr>\n",
       "  </tbody>\n",
       "</table>\n",
       "<p>8 rows × 57 columns</p>\n",
       "</div>"
      ],
      "text/plain": [
       "       chroma_stft_mean  chroma_stft_var      rms_mean       rms_var  \\\n",
       "count      9.990000e+03     9.990000e+03  9.990000e+03  9.990000e+03   \n",
       "mean       2.902072e-07    -1.741243e-07 -1.588503e-07  7.637031e-08   \n",
       "std        1.000000e+00     1.000000e+00  1.000000e+00  1.000000e+00   \n",
       "min       -3.011374e+00    -7.215329e+00 -1.895176e+00 -7.464086e-01   \n",
       "25%       -7.056427e-01    -5.233409e-01 -6.867999e-01 -5.750171e-01   \n",
       "50%        5.755606e-02     2.405317e-02 -1.401362e-01 -3.305054e-01   \n",
       "75%        6.953930e-01     6.450537e-01  6.633359e-01  1.267490e-01   \n",
       "max        4.089356e+00     3.744895e+00  4.547463e+00  8.349677e+00   \n",
       "\n",
       "       spectral_centroid_mean  spectral_centroid_var  spectral_bandwidth_mean  \\\n",
       "count            9.990000e+03           9.990000e+03             9.990000e+03   \n",
       "mean             2.527858e-07          -4.887700e-08            -6.567847e-08   \n",
       "std              1.000000e+00           9.999999e-01             1.000000e+00   \n",
       "min             -2.296273e+00          -9.560801e-01            -3.203473e+00   \n",
       "25%             -7.561762e-01          -6.747140e-01            -6.507812e-01   \n",
       "50%              1.251420e-02          -3.485423e-01            -1.987742e-02   \n",
       "75%              6.827897e-01           3.350677e-01             6.379549e-01   \n",
       "max              4.300418e+00           1.006392e+01             2.696974e+00   \n",
       "\n",
       "       spectral_bandwidth_var  rolloff_mean   rolloff_var  ...   mfcc16_mean  \\\n",
       "count            9.990000e+03  9.990000e+03  9.990000e+03  ...  9.990000e+03   \n",
       "mean            -4.276738e-08 -4.123997e-08 -1.221925e-08  ... -1.374666e-08   \n",
       "std              1.000000e+00  1.000000e+00  9.999999e-01  ...  1.000000e+00   \n",
       "min             -1.155274e+00 -2.379771e+00 -1.092820e+00  ... -4.934179e+00   \n",
       "25%             -6.857945e-01 -7.233364e-01 -7.178998e-01  ... -6.409107e-01   \n",
       "50%             -2.793317e-01  3.976777e-02 -3.146979e-01  ...  2.333510e-03   \n",
       "75%              3.975931e-01  6.245536e-01  4.254384e-01  ...  6.454080e-01   \n",
       "max              1.101989e+01  2.997061e+00  7.623491e+00  ...  6.572831e+00   \n",
       "\n",
       "         mfcc16_var   mfcc17_mean    mfcc17_var   mfcc18_mean    mfcc18_var  \\\n",
       "count  9.990000e+03  9.990000e+03  9.990000e+03  9.990000e+03  9.990000e+03   \n",
       "mean   1.344117e-07  3.360294e-08  9.469919e-08  3.818516e-10  3.360294e-08   \n",
       "std    9.999999e-01  9.999999e-01  1.000000e+00  9.999999e-01  1.000000e+00   \n",
       "min   -1.412862e+00 -4.158801e+00 -1.382892e+00 -4.144461e+00 -1.284838e+00   \n",
       "25%   -5.923980e-01 -6.610471e-01 -6.071125e-01 -6.285243e-01 -5.985955e-01   \n",
       "50%   -2.405830e-01 -4.303296e-02 -2.628843e-01 -1.191031e-03 -2.791586e-01   \n",
       "75%    2.696025e-01  6.115077e-01  2.668691e-01  6.077207e-01  2.500203e-01   \n",
       "max    1.840569e+01  6.736832e+00  1.311516e+01  6.992508e+00  1.512008e+01   \n",
       "\n",
       "        mfcc19_mean    mfcc19_var   mfcc20_mean    mfcc20_var  \n",
       "count  9.990000e+03  9.990000e+03  9.990000e+03  9.990000e+03  \n",
       "mean  -3.818516e-08  1.191377e-07  1.374666e-08 -4.887700e-08  \n",
       "std    1.000000e+00  9.999999e-01  9.999999e-01  1.000000e+00  \n",
       "min   -4.881090e+00 -1.248231e+00 -6.609836e+00 -1.228151e+00  \n",
       "25%   -6.332051e-01 -5.886019e-01 -5.876163e-01 -5.880443e-01  \n",
       "50%   -4.011522e-02 -2.774650e-01 -2.157812e-02 -2.797003e-01  \n",
       "75%    5.891373e-01  2.489987e-01  5.966193e-01  2.344276e-01  \n",
       "max    6.624425e+00  2.616903e+01  6.687237e+00  1.836936e+01  \n",
       "\n",
       "[8 rows x 57 columns]"
      ]
     },
     "execution_count": 5,
     "metadata": {},
     "output_type": "execute_result"
    }
   ],
   "source": [
    "df.describe()"
   ]
  },
  {
   "cell_type": "code",
   "execution_count": null,
   "id": "259572e6-dc73-440e-aa76-2d706e9af365",
   "metadata": {},
   "outputs": [],
   "source": [
    "df_numpy = df.to_numpy()"
   ]
  },
  {
   "cell_type": "markdown",
   "id": "e83ae3a1-f3a1-4902-bc9e-1398a426e917",
   "metadata": {
    "tags": []
   },
   "source": [
    "## Train-validation split"
   ]
  },
  {
   "cell_type": "code",
   "execution_count": null,
   "id": "e4fbd42a-0b45-4202-a362-954bb758d2ec",
   "metadata": {
    "tags": []
   },
   "outputs": [],
   "source": [
    "X = df_numpy[:,:-1]\n",
    "y = df_numpy[:, -1]"
   ]
  },
  {
   "cell_type": "code",
   "execution_count": null,
   "id": "832f20fe-b430-4f76-bbe0-aa08e5d7e7d2",
   "metadata": {
    "tags": []
   },
   "outputs": [
    {
     "data": {
      "text/plain": [
       "((9990, 57), (9990,))"
      ]
     },
     "execution_count": 9,
     "metadata": {},
     "output_type": "execute_result"
    }
   ],
   "source": [
    "X.shape, y.shape"
   ]
  },
  {
   "cell_type": "markdown",
   "id": "881ef551-a6ef-4689-85ba-421bfd67d04f",
   "metadata": {},
   "source": [
    "Split the data into training set and validation set:"
   ]
  },
  {
   "cell_type": "code",
   "execution_count": null,
   "id": "520f4c54-ab7d-44d3-9617-4dd5ed2c2793",
   "metadata": {
    "tags": []
   },
   "outputs": [],
   "source": [
    "from sklearn.model_selection import train_test_split\n",
    "X_train, X_test, y_train, y_test = train_test_split(X, y, test_size=0.2, random_state=0)"
   ]
  },
  {
   "cell_type": "markdown",
   "id": "3f203eef-d7bd-4311-b64d-5c744df05e58",
   "metadata": {
    "tags": []
   },
   "source": [
    "## Multiclass classifier"
   ]
  },
  {
   "cell_type": "markdown",
   "id": "0dae8454-e11d-40b5-a18d-0eead4b1d42f",
   "metadata": {},
   "source": [
    "Classses are only slightly unbalanced w.r.t. one another. This is not an issue"
   ]
  },
  {
   "cell_type": "code",
   "execution_count": 11,
   "id": "7bffce1d-b17b-4cd7-b883-08d586449929",
   "metadata": {
    "tags": []
   },
   "outputs": [
    {
     "data": {
      "text/plain": [
       "label\n",
       "blues        1000\n",
       "classical     998\n",
       "country       997\n",
       "disco         999\n",
       "hiphop        998\n",
       "jazz         1000\n",
       "metal        1000\n",
       "pop          1000\n",
       "reggae       1000\n",
       "rock          998\n",
       "dtype: int64"
      ]
     },
     "execution_count": 7,
     "metadata": {},
     "output_type": "execute_result"
    }
   ],
   "source": [
    "df.groupby('label').size()"
   ]
  },
  {
   "cell_type": "code",
   "execution_count": 12,
   "id": "3f4b7967-8d53-4bcb-88f9-fb1bd126f82f",
   "metadata": {},
   "outputs": [],
   "source": [
    "accuracy_list = []"
   ]
  },
  {
   "cell_type": "code",
   "execution_count": 13,
   "id": "79bc7e89-44d9-4a79-b74e-e79c4dda2cee",
   "metadata": {},
   "outputs": [
    {
     "ename": "NameError",
     "evalue": "name 'X_train' is not defined",
     "output_type": "error",
     "traceback": [
      "\u001b[0;31m---------------------------------------------------------------------------\u001b[0m",
      "\u001b[0;31mNameError\u001b[0m                                 Traceback (most recent call last)",
      "Cell \u001b[0;32mIn[9], line 3\u001b[0m\n\u001b[1;32m      1\u001b[0m \u001b[38;5;28;01mfrom\u001b[39;00m \u001b[38;5;21;01msklearn\u001b[39;00m\u001b[38;5;21;01m.\u001b[39;00m\u001b[38;5;21;01mnaive_bayes\u001b[39;00m \u001b[38;5;28;01mimport\u001b[39;00m GaussianNB\n\u001b[1;32m      2\u001b[0m gnb \u001b[38;5;241m=\u001b[39m GaussianNB()\n\u001b[0;32m----> 3\u001b[0m gnb \u001b[38;5;241m=\u001b[39m gnb\u001b[38;5;241m.\u001b[39mfit(\u001b[43mX_train\u001b[49m, y_train)\n",
      "\u001b[0;31mNameError\u001b[0m: name 'X_train' is not defined"
     ]
    }
   ],
   "source": [
    "from sklearn.naive_bayes import GaussianNB\n",
    "gnb = GaussianNB()\n",
    "gnb = gnb.fit(X_train, y_train)"
   ]
  },
  {
   "cell_type": "code",
   "execution_count": 14,
   "id": "9d79de0e-5809-415c-94fb-db463fb3b856",
   "metadata": {
    "tags": []
   },
   "outputs": [],
   "source": [
    "y_pred = gnb.predict(X_test)\n",
    "accuracy = (y_test == y_pred).sum() / len(y_test)"
   ]
  },
  {
   "cell_type": "code",
   "execution_count": 15,
   "id": "829a3ae7-3939-4443-b9e7-7ac409a65541",
   "metadata": {
    "tags": []
   },
   "outputs": [],
   "source": [
    "accuracy_list.append(accuracy*100)\n",
    "print(f\"Accuracy: {accuracy:.3%}\")"
   ]
  },
  {
   "cell_type": "markdown",
   "id": "f0ce27c0-cd1c-4572-aaf3-be1b6231a5e0",
   "metadata": {},
   "source": [
    "## Inbalanced Binary classifiers"
   ]
  },
  {
   "cell_type": "code",
   "execution_count": 16,
   "id": "ce779fd4-69d0-4e22-9471-ba6234670fa6",
   "metadata": {
    "tags": []
   },
   "outputs": [],
   "source": [
    "genres = ['blues', 'classical', 'country', 'disco', 'hiphop','jazz', 'metal', 'pop', 'reggae', 'rock']"
   ]
  },
  {
   "cell_type": "code",
   "execution_count": 17,
   "id": "697e3e72-65c4-48a6-8408-e3445847a58e",
   "metadata": {
    "tags": []
   },
   "outputs": [],
   "source": [
    "def binary_classifier(X, y, genre, test_size):\n",
    "    # Pre-process label vector\n",
    "    y[y != genre] = False\n",
    "    y[y == genre] = True\n",
    "    y = y.astype(np.bool_)\n",
    "    \n",
    "    # Train-validation split\n",
    "    X_train, X_test, y_train, y_test = train_test_split(X, y, test_size=test_size)\n",
    "    \n",
    "    # Fit the model\n",
    "    gnb = GaussianNB()\n",
    "    gnb = gnb.fit(X_train, y_train)\n",
    "    y_pred = gnb.predict(X_test)\n",
    "    \n",
    "    # Return the accuracy\n",
    "    return (y_test == y_pred).sum() / len(y_test)"
   ]
  },
  {
   "cell_type": "code",
   "execution_count": 18,
   "id": "a51d0fbe-0e23-4402-ac55-93bc1eca15ef",
   "metadata": {
    "tags": []
   },
   "outputs": [],
   "source": [
    "for genre in genres:\n",
    "    accuracy = binary_classifier(X, y.copy(), genre, 0.33)\n",
    "    accuracy_list.append(accuracy*100)\n",
    "    print(f\"Genre: {genre} - Accuracy: {accuracy:.3%}\")"
   ]
  },
  {
   "cell_type": "code",
   "execution_count": 19,
   "id": "e57d5578-83df-40e7-9a98-6343cfe851ae",
   "metadata": {
    "tags": []
   },
   "outputs": [],
   "source": [
    "import matplotlib.pyplot as plt\n",
    "def plot(x, y, title):\n",
    "    fig, ax = plt.subplots(figsize=(12,6))\n",
    "    sns.barplot(x=x, y=y, width=0.6, palette=\"winter\", ax=ax)\n",
    "    ax.set_title(title)\n",
    "    ax.set_yticks(np.arange(0, 101, 10))\n",
    "    # ax.legend()\n",
    "    ax.set_ylabel(\"Accuracy\")\n",
    "    ax.set_xlabel(\"Classifier\")\n",
    "    ax.set_axisbelow(True)\n",
    "    ax.grid(axis='x', visible=False)\n",
    "    ax.grid(axis='y', color='gray')"
   ]
  },
  {
   "cell_type": "code",
   "execution_count": 20,
   "id": "76e07da2-2c0a-4999-aaaf-bc96e75d7f20",
   "metadata": {
    "tags": []
   },
   "outputs": [],
   "source": [
    "labels = ['multiclass'] + genres\n",
    "plot(labels, accuracy_list, \"Inbalanced Naive Bayes classification\")"
   ]
  },
  {
   "cell_type": "markdown",
   "id": "de68db37-ad4b-4327-91cb-bda0a7aa223a",
   "metadata": {},
   "source": [
    "## Balanced Binary Classifiers"
   ]
  },
  {
   "cell_type": "markdown",
   "id": "835597d0-c181-475c-8a52-4e361b6b36c9",
   "metadata": {},
   "source": [
    "We want classes to have the same number of elements.\n",
    "\n",
    "Therefore, we will randomly select samples from the other classes."
   ]
  },
  {
   "cell_type": "code",
   "execution_count": 21,
   "id": "a5a9edbb-5de4-4ed8-acae-a42df4b0ad60",
   "metadata": {},
   "outputs": [],
   "source": [
    "def balance(data, genre):\n",
    "    # Split the data\n",
    "    data_class = df_numpy[df_numpy[:,-1] == genre]\n",
    "    data_others = df_numpy[df_numpy[:,-1] != genre]\n",
    "    \n",
    "    # Balance the classes\n",
    "    idxs = np.random.choice(len(data_others), len(data_class))\n",
    "    data_others = data_others[idxs]\n",
    "    data = np.concatenate((data_class, data_others))\n",
    "    \n",
    "    # Return the data\n",
    "    X = data[:,:-1]\n",
    "    y = data[:, -1]\n",
    "    return X, y"
   ]
  },
  {
   "cell_type": "code",
   "execution_count": 22,
   "id": "b2a4a2a3-9255-468f-a6cb-de2a127789fb",
   "metadata": {},
   "outputs": [],
   "source": [
    "accuracy_list = []\n",
    "for genre in genres:\n",
    "    X, y = balance(df_numpy, genre)\n",
    "    accuracy = binary_classifier(X, y, genre, 0.33)\n",
    "    accuracy_list.append(accuracy*100)\n",
    "    print(f\"Genre: {genre} - Accuracy: {accuracy:.3%}\")"
   ]
  },
  {
   "cell_type": "code",
   "execution_count": 23,
   "id": "ebc6042a-0623-4487-9548-b42874dc5a3a",
   "metadata": {},
   "outputs": [],
   "source": [
    "plot(genres, accuracy_list, \"Balanced Naive Bayes classification\")"
   ]
  },
  {
   "cell_type": "code",
   "execution_count": null,
   "id": "059acdd9-f423-4fd7-ad29-79d96d5ecd10",
   "metadata": {},
   "outputs": [],
   "source": []
  }
 ],
 "metadata": {
  "kernelspec": {
   "display_name": "Python 3 (ipykernel)",
   "language": "python",
   "name": "python3"
  },
  "language_info": {
   "codemirror_mode": {
    "name": "ipython",
    "version": 3
   },
   "file_extension": ".py",
   "mimetype": "text/x-python",
   "name": "python",
   "nbconvert_exporter": "python",
   "pygments_lexer": "ipython3",
   "version": "3.8.10"
  }
 },
 "nbformat": 4,
 "nbformat_minor": 5
}
