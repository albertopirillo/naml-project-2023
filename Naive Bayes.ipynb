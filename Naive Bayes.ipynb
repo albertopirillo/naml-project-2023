{
 "cells": [
  {
   "cell_type": "markdown",
   "id": "b23d8c5e-896f-4ac7-b51b-624503f31ed5",
   "metadata": {},
   "source": [
    "# Naive Bayes"
   ]
  },
  {
   "cell_type": "code",
   "execution_count": 1,
   "id": "f61e0b11-cd0c-4db6-a81d-ea3255111f3d",
   "metadata": {
    "tags": []
   },
   "outputs": [],
   "source": [
    "import numpy as np\n",
    "import pandas as pd\n",
    "import seaborn as sns"
   ]
  },
  {
   "cell_type": "markdown",
   "id": "b1d3f28c-1185-4649-bea4-b5379d64c53a",
   "metadata": {
    "tags": []
   },
   "source": [
    "## Pre-processing"
   ]
  },
  {
   "cell_type": "markdown",
   "id": "97861145-d02b-4990-aeac-3933ff15a3b8",
   "metadata": {},
   "source": [
    "Load and pre-process the dataset:"
   ]
  },
  {
   "cell_type": "code",
   "execution_count": 2,
   "id": "3cb190c7-baef-4786-bc1a-2626b578c24d",
   "metadata": {
    "tags": []
   },
   "outputs": [],
   "source": [
    "from lib import pre_processing\n",
    "file_path = \"./data/features_3_sec.csv\"\n",
    "df = pd.read_csv(file_path)\n",
    "df = pre_processing(df)"
   ]
  },
  {
   "cell_type": "markdown",
   "id": "35486710-a80a-4935-9b78-548bed6d4f4f",
   "metadata": {
    "tags": []
   },
   "source": [
    "## Data Normalization"
   ]
  },
  {
   "cell_type": "code",
   "execution_count": 3,
   "id": "ff6451b8-12f8-4f3e-b514-dcfc31cee46b",
   "metadata": {},
   "outputs": [],
   "source": [
    "from lib import normalize_df\n",
    "df = normalize_df(df)"
   ]
  },
  {
   "cell_type": "code",
   "execution_count": 4,
   "id": "e4fbd42a-0b45-4202-a362-954bb758d2ec",
   "metadata": {
    "tags": []
   },
   "outputs": [],
   "source": [
    "df_numpy = df.to_numpy()\n",
    "X = df_numpy[:,:-1]\n",
    "y = df_numpy[:, -1]"
   ]
  },
  {
   "cell_type": "code",
   "execution_count": 5,
   "id": "832f20fe-b430-4f76-bbe0-aa08e5d7e7d2",
   "metadata": {
    "tags": []
   },
   "outputs": [
    {
     "data": {
      "text/plain": [
       "((9990, 57), (9990,))"
      ]
     },
     "execution_count": 5,
     "metadata": {},
     "output_type": "execute_result"
    }
   ],
   "source": [
    "X.shape, y.shape"
   ]
  },
  {
   "cell_type": "markdown",
   "id": "3f203eef-d7bd-4311-b64d-5c744df05e58",
   "metadata": {
    "tags": []
   },
   "source": [
    "## Multiclass classifier"
   ]
  },
  {
   "cell_type": "code",
   "execution_count": 6,
   "id": "7bffce1d-b17b-4cd7-b883-08d586449929",
   "metadata": {
    "tags": []
   },
   "outputs": [
    {
     "data": {
      "text/plain": [
       "label\n",
       "blues        1000\n",
       "classical     998\n",
       "country       997\n",
       "disco         999\n",
       "hiphop        998\n",
       "jazz         1000\n",
       "metal        1000\n",
       "pop          1000\n",
       "reggae       1000\n",
       "rock          998\n",
       "dtype: int64"
      ]
     },
     "execution_count": 6,
     "metadata": {},
     "output_type": "execute_result"
    }
   ],
   "source": [
    "df.groupby('label').size()"
   ]
  },
  {
   "cell_type": "markdown",
   "id": "0dae8454-e11d-40b5-a18d-0eead4b1d42f",
   "metadata": {},
   "source": [
    "Classses are only slightly unbalanced w.r.t. one another. This is not an issue."
   ]
  },
  {
   "cell_type": "code",
   "execution_count": 7,
   "id": "9fadf466-3e23-4240-9f6e-946802c3f702",
   "metadata": {
    "tags": []
   },
   "outputs": [],
   "source": [
    "from sklearn.naive_bayes import GaussianNB\n",
    "from sklearn.model_selection import train_test_split\n",
    "\n",
    "def fit_gnb(X, y, test_size):\n",
    "    # Train-validation split\n",
    "    X_train, X_test, y_train, y_test = train_test_split(X, y, test_size=test_size, random_state=0)\n",
    "    \n",
    "    # Fit the model\n",
    "    gnb = GaussianNB()\n",
    "    gnb = gnb.fit(X_train, y_train)\n",
    "    y_pred = gnb.predict(X_test)\n",
    "    \n",
    "    # Return the accuracy\n",
    "    return ((y_test == y_pred).sum() / len(y_test))"
   ]
  },
  {
   "cell_type": "code",
   "execution_count": 8,
   "id": "829a3ae7-3939-4443-b9e7-7ac409a65541",
   "metadata": {
    "tags": []
   },
   "outputs": [
    {
     "name": "stdout",
     "output_type": "stream",
     "text": [
      "| Genre: multiclass | Accuracy: 50.804% |\n"
     ]
    }
   ],
   "source": [
    "accuracy_list = []\n",
    "accuracy = fit_gnb(X, y, 0.33)\n",
    "accuracy_list.append(accuracy*100)\n",
    "print(f\"| Genre: multiclass | Accuracy: {accuracy:.3%} |\")"
   ]
  },
  {
   "cell_type": "markdown",
   "id": "f0ce27c0-cd1c-4572-aaf3-be1b6231a5e0",
   "metadata": {},
   "source": [
    "## Balanced Binary Classifiers"
   ]
  },
  {
   "cell_type": "markdown",
   "id": "b759e38e-fd44-4230-b484-9353a4b658a0",
   "metadata": {},
   "source": [
    "We want classes to have the same number of elements.\n",
    "\n",
    "Therefore, in this case we will randomly select samples from the other classes."
   ]
  },
  {
   "cell_type": "code",
   "execution_count": 9,
   "id": "ce779fd4-69d0-4e22-9471-ba6234670fa6",
   "metadata": {
    "tags": []
   },
   "outputs": [],
   "source": [
    "genres = ['blues', 'classical', 'country', 'disco', 'hiphop','jazz', 'metal', 'pop', 'reggae', 'rock']"
   ]
  },
  {
   "cell_type": "code",
   "execution_count": 10,
   "id": "a51d0fbe-0e23-4402-ac55-93bc1eca15ef",
   "metadata": {
    "tags": []
   },
   "outputs": [
    {
     "name": "stdout",
     "output_type": "stream",
     "text": [
      "| Genre: blues     | Accuracy: 77.121% |\n",
      "| Genre: classical | Accuracy: 92.261% |\n",
      "| Genre: country   | Accuracy: 75.114% |\n",
      "| Genre: disco     | Accuracy: 69.697% |\n",
      "| Genre: hiphop    | Accuracy: 73.900% |\n",
      "| Genre: jazz      | Accuracy: 80.758% |\n",
      "| Genre: metal     | Accuracy: 84.242% |\n",
      "| Genre: pop       | Accuracy: 86.364% |\n",
      "| Genre: reggae    | Accuracy: 83.030% |\n",
      "| Genre: rock      | Accuracy: 71.472% |\n"
     ]
    }
   ],
   "source": [
    "from lib import balance_classes\n",
    "for genre in genres:\n",
    "    Xi, yi = balance_classes(X, y, genre)\n",
    "    accuracy = fit_gnb(Xi, yi, 0.33)\n",
    "    accuracy_list.append(accuracy*100)\n",
    "    print(f\"| Genre: {genre:9} | Accuracy: {accuracy:.3%} |\")"
   ]
  },
  {
   "cell_type": "code",
   "execution_count": 11,
   "id": "76e07da2-2c0a-4999-aaaf-bc96e75d7f20",
   "metadata": {
    "tags": []
   },
   "outputs": [
    {
     "data": {
      "image/png": "[encoded data removed]",
      "text/plain": [
       "<Figure size 1200x600 with 1 Axes>"
      ]
     },
     "metadata": {},
     "output_type": "display_data"
    }
   ],
   "source": [
    "from lib import plot_accuracies\n",
    "labels = ['multiclass'] + genres\n",
    "plot_accuracies(labels, accuracy_list, \"Balanced Naive Bayes classification\")"
   ]
  }
 ],
 "metadata": {
  "kernelspec": {
   "display_name": "Python 3 (ipykernel)",
   "language": "python",
   "name": "python3"
  },
  "language_info": {
   "codemirror_mode": {
    "name": "ipython",
    "version": 3
   },
   "file_extension": ".py",
   "mimetype": "text/x-python",
   "name": "python",
   "nbconvert_exporter": "python",
   "pygments_lexer": "ipython3",
   "version": "3.8.10"
  }
 },
 "nbformat": 4,
 "nbformat_minor": 5
}
